{
 "cells": [
  {
   "cell_type": "markdown",
   "id": "46864012",
   "metadata": {},
   "source": [
    "# Smoke Detection Project \n",
    "\n",
    "###### Prepared by Edidiong Udoh"
   ]
  },
  {
   "cell_type": "markdown",
   "id": "a4ba5175",
   "metadata": {},
   "source": [
    "A smoke detector is basically a device which detects smoke and raises an alarm to alert others. They are mostly used in offices, home, factories, etc.\n",
    "\n",
    "\n",
    "The objective of this project is to make an AI model using the given dataset to accurately raise an alarm if smoke is detected."
   ]
  },
  {
   "cell_type": "markdown",
   "id": "afa40b2c",
   "metadata": {},
   "source": [
    "* Data Understanding - The data provided is in a csv file format, containing various physicochemical properties of fire. Exploratory analysis will be carried out in the notebook before modelling. \n",
    "* Data Preparation - There are no null values in the dataset\n",
    "* Modelling - 5 models will be evaluated for this classification task: logistic regression, random forest, k-nearest neighbors, support vector machine and decision tree. Training and test data will split be 70:30.\n",
    "* Evaluation - Each of the 5 models will be compared and evaluated using Cross validation, precision and recall.\n",
    "* Deployment - This was not within the scope of this exercise"
   ]
  },
  {
   "cell_type": "code",
   "execution_count": 1,
   "id": "b6678629",
   "metadata": {},
   "outputs": [],
   "source": [
    "# Import libraries for Data Manipulation\n",
    "\n",
    "import numpy as np\n",
    "import pandas as pd\n",
    "\n",
    "# Import libraries for Data Visualization\n",
    "import seaborn as sns\n",
    "import matplotlib.pyplot as plt\n",
    "\n",
    "import warnings\n",
    "warnings.filterwarnings(\"ignore\")"
   ]
  },
  {
   "cell_type": "markdown",
   "id": "11efb2c1",
   "metadata": {},
   "source": [
    "\n",
    "## Data Inspection"
   ]
  },
  {
   "cell_type": "code",
   "execution_count": 2,
   "id": "b71e4f21",
   "metadata": {},
   "outputs": [
    {
     "data": {
      "text/html": [
       "<div>\n",
       "<style scoped>\n",
       "    .dataframe tbody tr th:only-of-type {\n",
       "        vertical-align: middle;\n",
       "    }\n",
       "\n",
       "    .dataframe tbody tr th {\n",
       "        vertical-align: top;\n",
       "    }\n",
       "\n",
       "    .dataframe thead th {\n",
       "        text-align: right;\n",
       "    }\n",
       "</style>\n",
       "<table border=\"1\" class=\"dataframe\">\n",
       "  <thead>\n",
       "    <tr style=\"text-align: right;\">\n",
       "      <th></th>\n",
       "      <th>Unnamed: 0</th>\n",
       "      <th>UTC</th>\n",
       "      <th>Temperature[C]</th>\n",
       "      <th>Humidity[%]</th>\n",
       "      <th>TVOC[ppb]</th>\n",
       "      <th>eCO2[ppm]</th>\n",
       "      <th>Raw H2</th>\n",
       "      <th>Raw Ethanol</th>\n",
       "      <th>Pressure[hPa]</th>\n",
       "      <th>PM1.0</th>\n",
       "      <th>PM2.5</th>\n",
       "      <th>NC0.5</th>\n",
       "      <th>NC1.0</th>\n",
       "      <th>NC2.5</th>\n",
       "      <th>CNT</th>\n",
       "      <th>Fire Alarm</th>\n",
       "    </tr>\n",
       "  </thead>\n",
       "  <tbody>\n",
       "    <tr>\n",
       "      <th>0</th>\n",
       "      <td>0</td>\n",
       "      <td>1654733331</td>\n",
       "      <td>20.000</td>\n",
       "      <td>57.36</td>\n",
       "      <td>0</td>\n",
       "      <td>400</td>\n",
       "      <td>12306</td>\n",
       "      <td>18520</td>\n",
       "      <td>939.735</td>\n",
       "      <td>0.0</td>\n",
       "      <td>0.0</td>\n",
       "      <td>0.0</td>\n",
       "      <td>0.0</td>\n",
       "      <td>0.0</td>\n",
       "      <td>0</td>\n",
       "      <td>0</td>\n",
       "    </tr>\n",
       "    <tr>\n",
       "      <th>1</th>\n",
       "      <td>1</td>\n",
       "      <td>1654733332</td>\n",
       "      <td>20.015</td>\n",
       "      <td>56.67</td>\n",
       "      <td>0</td>\n",
       "      <td>400</td>\n",
       "      <td>12345</td>\n",
       "      <td>18651</td>\n",
       "      <td>939.744</td>\n",
       "      <td>0.0</td>\n",
       "      <td>0.0</td>\n",
       "      <td>0.0</td>\n",
       "      <td>0.0</td>\n",
       "      <td>0.0</td>\n",
       "      <td>1</td>\n",
       "      <td>0</td>\n",
       "    </tr>\n",
       "    <tr>\n",
       "      <th>2</th>\n",
       "      <td>2</td>\n",
       "      <td>1654733333</td>\n",
       "      <td>20.029</td>\n",
       "      <td>55.96</td>\n",
       "      <td>0</td>\n",
       "      <td>400</td>\n",
       "      <td>12374</td>\n",
       "      <td>18764</td>\n",
       "      <td>939.738</td>\n",
       "      <td>0.0</td>\n",
       "      <td>0.0</td>\n",
       "      <td>0.0</td>\n",
       "      <td>0.0</td>\n",
       "      <td>0.0</td>\n",
       "      <td>2</td>\n",
       "      <td>0</td>\n",
       "    </tr>\n",
       "    <tr>\n",
       "      <th>3</th>\n",
       "      <td>3</td>\n",
       "      <td>1654733334</td>\n",
       "      <td>20.044</td>\n",
       "      <td>55.28</td>\n",
       "      <td>0</td>\n",
       "      <td>400</td>\n",
       "      <td>12390</td>\n",
       "      <td>18849</td>\n",
       "      <td>939.736</td>\n",
       "      <td>0.0</td>\n",
       "      <td>0.0</td>\n",
       "      <td>0.0</td>\n",
       "      <td>0.0</td>\n",
       "      <td>0.0</td>\n",
       "      <td>3</td>\n",
       "      <td>0</td>\n",
       "    </tr>\n",
       "    <tr>\n",
       "      <th>4</th>\n",
       "      <td>4</td>\n",
       "      <td>1654733335</td>\n",
       "      <td>20.059</td>\n",
       "      <td>54.69</td>\n",
       "      <td>0</td>\n",
       "      <td>400</td>\n",
       "      <td>12403</td>\n",
       "      <td>18921</td>\n",
       "      <td>939.744</td>\n",
       "      <td>0.0</td>\n",
       "      <td>0.0</td>\n",
       "      <td>0.0</td>\n",
       "      <td>0.0</td>\n",
       "      <td>0.0</td>\n",
       "      <td>4</td>\n",
       "      <td>0</td>\n",
       "    </tr>\n",
       "  </tbody>\n",
       "</table>\n",
       "</div>"
      ],
      "text/plain": [
       "   Unnamed: 0         UTC  Temperature[C]  Humidity[%]  TVOC[ppb]  eCO2[ppm]  \\\n",
       "0           0  1654733331          20.000        57.36          0        400   \n",
       "1           1  1654733332          20.015        56.67          0        400   \n",
       "2           2  1654733333          20.029        55.96          0        400   \n",
       "3           3  1654733334          20.044        55.28          0        400   \n",
       "4           4  1654733335          20.059        54.69          0        400   \n",
       "\n",
       "   Raw H2  Raw Ethanol  Pressure[hPa]  PM1.0  PM2.5  NC0.5  NC1.0  NC2.5  CNT  \\\n",
       "0   12306        18520        939.735    0.0    0.0    0.0    0.0    0.0    0   \n",
       "1   12345        18651        939.744    0.0    0.0    0.0    0.0    0.0    1   \n",
       "2   12374        18764        939.738    0.0    0.0    0.0    0.0    0.0    2   \n",
       "3   12390        18849        939.736    0.0    0.0    0.0    0.0    0.0    3   \n",
       "4   12403        18921        939.744    0.0    0.0    0.0    0.0    0.0    4   \n",
       "\n",
       "   Fire Alarm  \n",
       "0           0  \n",
       "1           0  \n",
       "2           0  \n",
       "3           0  \n",
       "4           0  "
      ]
     },
     "execution_count": 2,
     "metadata": {},
     "output_type": "execute_result"
    }
   ],
   "source": [
    "# Load the dataset\n",
    "sd = pd.read_csv(r'C:\\Users\\user\\Documents\\DATA ANALYSIS FILES\\10ALYTICS\\Excel-CSV\\smoke_detection_iot.csv')\n",
    "\n",
    "# view the top 5\n",
    "sd.head()"
   ]
  },
  {
   "cell_type": "code",
   "execution_count": 3,
   "id": "26e1de51",
   "metadata": {},
   "outputs": [
    {
     "data": {
      "text/html": [
       "<div>\n",
       "<style scoped>\n",
       "    .dataframe tbody tr th:only-of-type {\n",
       "        vertical-align: middle;\n",
       "    }\n",
       "\n",
       "    .dataframe tbody tr th {\n",
       "        vertical-align: top;\n",
       "    }\n",
       "\n",
       "    .dataframe thead th {\n",
       "        text-align: right;\n",
       "    }\n",
       "</style>\n",
       "<table border=\"1\" class=\"dataframe\">\n",
       "  <thead>\n",
       "    <tr style=\"text-align: right;\">\n",
       "      <th></th>\n",
       "      <th>Unnamed: 0</th>\n",
       "      <th>UTC</th>\n",
       "      <th>Temperature[C]</th>\n",
       "      <th>Humidity[%]</th>\n",
       "      <th>TVOC[ppb]</th>\n",
       "      <th>eCO2[ppm]</th>\n",
       "      <th>Raw H2</th>\n",
       "      <th>Raw Ethanol</th>\n",
       "      <th>Pressure[hPa]</th>\n",
       "      <th>PM1.0</th>\n",
       "      <th>PM2.5</th>\n",
       "      <th>NC0.5</th>\n",
       "      <th>NC1.0</th>\n",
       "      <th>NC2.5</th>\n",
       "      <th>CNT</th>\n",
       "      <th>Fire Alarm</th>\n",
       "    </tr>\n",
       "  </thead>\n",
       "  <tbody>\n",
       "    <tr>\n",
       "      <th>62625</th>\n",
       "      <td>62625</td>\n",
       "      <td>1655130047</td>\n",
       "      <td>18.438</td>\n",
       "      <td>15.79</td>\n",
       "      <td>625</td>\n",
       "      <td>400</td>\n",
       "      <td>13723</td>\n",
       "      <td>20569</td>\n",
       "      <td>936.670</td>\n",
       "      <td>0.63</td>\n",
       "      <td>0.65</td>\n",
       "      <td>4.32</td>\n",
       "      <td>0.673</td>\n",
       "      <td>0.015</td>\n",
       "      <td>5739</td>\n",
       "      <td>0</td>\n",
       "    </tr>\n",
       "    <tr>\n",
       "      <th>62626</th>\n",
       "      <td>62626</td>\n",
       "      <td>1655130048</td>\n",
       "      <td>18.653</td>\n",
       "      <td>15.87</td>\n",
       "      <td>612</td>\n",
       "      <td>400</td>\n",
       "      <td>13731</td>\n",
       "      <td>20588</td>\n",
       "      <td>936.678</td>\n",
       "      <td>0.61</td>\n",
       "      <td>0.63</td>\n",
       "      <td>4.18</td>\n",
       "      <td>0.652</td>\n",
       "      <td>0.015</td>\n",
       "      <td>5740</td>\n",
       "      <td>0</td>\n",
       "    </tr>\n",
       "    <tr>\n",
       "      <th>62627</th>\n",
       "      <td>62627</td>\n",
       "      <td>1655130049</td>\n",
       "      <td>18.867</td>\n",
       "      <td>15.84</td>\n",
       "      <td>627</td>\n",
       "      <td>400</td>\n",
       "      <td>13725</td>\n",
       "      <td>20582</td>\n",
       "      <td>936.687</td>\n",
       "      <td>0.57</td>\n",
       "      <td>0.60</td>\n",
       "      <td>3.95</td>\n",
       "      <td>0.617</td>\n",
       "      <td>0.014</td>\n",
       "      <td>5741</td>\n",
       "      <td>0</td>\n",
       "    </tr>\n",
       "    <tr>\n",
       "      <th>62628</th>\n",
       "      <td>62628</td>\n",
       "      <td>1655130050</td>\n",
       "      <td>19.083</td>\n",
       "      <td>16.04</td>\n",
       "      <td>638</td>\n",
       "      <td>400</td>\n",
       "      <td>13712</td>\n",
       "      <td>20566</td>\n",
       "      <td>936.680</td>\n",
       "      <td>0.57</td>\n",
       "      <td>0.59</td>\n",
       "      <td>3.92</td>\n",
       "      <td>0.611</td>\n",
       "      <td>0.014</td>\n",
       "      <td>5742</td>\n",
       "      <td>0</td>\n",
       "    </tr>\n",
       "    <tr>\n",
       "      <th>62629</th>\n",
       "      <td>62629</td>\n",
       "      <td>1655130051</td>\n",
       "      <td>19.299</td>\n",
       "      <td>16.52</td>\n",
       "      <td>643</td>\n",
       "      <td>400</td>\n",
       "      <td>13696</td>\n",
       "      <td>20543</td>\n",
       "      <td>936.676</td>\n",
       "      <td>0.57</td>\n",
       "      <td>0.59</td>\n",
       "      <td>3.90</td>\n",
       "      <td>0.607</td>\n",
       "      <td>0.014</td>\n",
       "      <td>5743</td>\n",
       "      <td>0</td>\n",
       "    </tr>\n",
       "  </tbody>\n",
       "</table>\n",
       "</div>"
      ],
      "text/plain": [
       "       Unnamed: 0         UTC  Temperature[C]  Humidity[%]  TVOC[ppb]  \\\n",
       "62625       62625  1655130047          18.438        15.79        625   \n",
       "62626       62626  1655130048          18.653        15.87        612   \n",
       "62627       62627  1655130049          18.867        15.84        627   \n",
       "62628       62628  1655130050          19.083        16.04        638   \n",
       "62629       62629  1655130051          19.299        16.52        643   \n",
       "\n",
       "       eCO2[ppm]  Raw H2  Raw Ethanol  Pressure[hPa]  PM1.0  PM2.5  NC0.5  \\\n",
       "62625        400   13723        20569        936.670   0.63   0.65   4.32   \n",
       "62626        400   13731        20588        936.678   0.61   0.63   4.18   \n",
       "62627        400   13725        20582        936.687   0.57   0.60   3.95   \n",
       "62628        400   13712        20566        936.680   0.57   0.59   3.92   \n",
       "62629        400   13696        20543        936.676   0.57   0.59   3.90   \n",
       "\n",
       "       NC1.0  NC2.5   CNT  Fire Alarm  \n",
       "62625  0.673  0.015  5739           0  \n",
       "62626  0.652  0.015  5740           0  \n",
       "62627  0.617  0.014  5741           0  \n",
       "62628  0.611  0.014  5742           0  \n",
       "62629  0.607  0.014  5743           0  "
      ]
     },
     "execution_count": 3,
     "metadata": {},
     "output_type": "execute_result"
    }
   ],
   "source": [
    "# view the bottom 5\n",
    "sd.tail()"
   ]
  },
  {
   "cell_type": "markdown",
   "id": "f2e10f12",
   "metadata": {},
   "source": [
    "The features in the dataset and meaning:\n",
    "\n",
    "* UTC - The time when experiment was performed.\n",
    "* Temperature - Temperature of Surroundings. Measured in Celsius\n",
    "* Humidity - The air humidity during the experiment.\n",
    "* TVOC - Total Volatile Organic Compounds. Measured in ppb (parts per billion)\n",
    "* eCo2 - CO2 equivalent concentration. Measured in ppm (parts per million)\n",
    "* Raw H2 - The amount of Raw Hydrogen present in the surroundings.\n",
    "* Raw Ethanol - The amount of Raw Ethanol present in the surroundings.\n",
    "* Pressure - Air pressure. Measured in hPa\n",
    "* PM1.0 - Paticulate matter of diameter less than 1.0 micrometer .\n",
    "* PM2.5 - Paticulate matter of diameter less than 2.5 micrometer.\n",
    "* NC0.5 - Concentration of particulate matter of diameter less than 0.5 micrometers.\n",
    "* NC1.0 - Concentration of particulate matter of diameter less than 1.0 micrometers.\n",
    "* NC2.5 - Concentration of particulate matter of diameter less than 2.5 micrometers.\n",
    "* CNT - Simple Count.\n",
    "* Fire Alarm - (Reality) If fire was present then value is 1 else it is 0.\n"
   ]
  },
  {
   "cell_type": "markdown",
   "id": "eff755a0",
   "metadata": {},
   "source": [
    "##### Data Cleaning "
   ]
  },
  {
   "cell_type": "markdown",
   "id": "0cc84dc8",
   "metadata": {},
   "source": [
    "'''It is adviced to make a copy of the dataset before any change is made to the dataset'''\n",
    " '''for easy reference to the original dataset'''"
   ]
  },
  {
   "cell_type": "code",
   "execution_count": 4,
   "id": "8466ed03",
   "metadata": {},
   "outputs": [
    {
     "data": {
      "text/html": [
       "<div>\n",
       "<style scoped>\n",
       "    .dataframe tbody tr th:only-of-type {\n",
       "        vertical-align: middle;\n",
       "    }\n",
       "\n",
       "    .dataframe tbody tr th {\n",
       "        vertical-align: top;\n",
       "    }\n",
       "\n",
       "    .dataframe thead th {\n",
       "        text-align: right;\n",
       "    }\n",
       "</style>\n",
       "<table border=\"1\" class=\"dataframe\">\n",
       "  <thead>\n",
       "    <tr style=\"text-align: right;\">\n",
       "      <th></th>\n",
       "      <th>Unnamed: 0</th>\n",
       "      <th>UTC</th>\n",
       "      <th>Temperature[C]</th>\n",
       "      <th>Humidity[%]</th>\n",
       "      <th>TVOC[ppb]</th>\n",
       "      <th>eCO2[ppm]</th>\n",
       "      <th>Raw H2</th>\n",
       "      <th>Raw Ethanol</th>\n",
       "      <th>Pressure[hPa]</th>\n",
       "      <th>PM1.0</th>\n",
       "      <th>PM2.5</th>\n",
       "      <th>NC0.5</th>\n",
       "      <th>NC1.0</th>\n",
       "      <th>NC2.5</th>\n",
       "      <th>CNT</th>\n",
       "      <th>Fire Alarm</th>\n",
       "    </tr>\n",
       "  </thead>\n",
       "  <tbody>\n",
       "    <tr>\n",
       "      <th>0</th>\n",
       "      <td>0</td>\n",
       "      <td>1654733331</td>\n",
       "      <td>20.000</td>\n",
       "      <td>57.36</td>\n",
       "      <td>0</td>\n",
       "      <td>400</td>\n",
       "      <td>12306</td>\n",
       "      <td>18520</td>\n",
       "      <td>939.735</td>\n",
       "      <td>0.0</td>\n",
       "      <td>0.0</td>\n",
       "      <td>0.0</td>\n",
       "      <td>0.0</td>\n",
       "      <td>0.0</td>\n",
       "      <td>0</td>\n",
       "      <td>0</td>\n",
       "    </tr>\n",
       "    <tr>\n",
       "      <th>1</th>\n",
       "      <td>1</td>\n",
       "      <td>1654733332</td>\n",
       "      <td>20.015</td>\n",
       "      <td>56.67</td>\n",
       "      <td>0</td>\n",
       "      <td>400</td>\n",
       "      <td>12345</td>\n",
       "      <td>18651</td>\n",
       "      <td>939.744</td>\n",
       "      <td>0.0</td>\n",
       "      <td>0.0</td>\n",
       "      <td>0.0</td>\n",
       "      <td>0.0</td>\n",
       "      <td>0.0</td>\n",
       "      <td>1</td>\n",
       "      <td>0</td>\n",
       "    </tr>\n",
       "  </tbody>\n",
       "</table>\n",
       "</div>"
      ],
      "text/plain": [
       "   Unnamed: 0         UTC  Temperature[C]  Humidity[%]  TVOC[ppb]  eCO2[ppm]  \\\n",
       "0           0  1654733331          20.000        57.36          0        400   \n",
       "1           1  1654733332          20.015        56.67          0        400   \n",
       "\n",
       "   Raw H2  Raw Ethanol  Pressure[hPa]  PM1.0  PM2.5  NC0.5  NC1.0  NC2.5  CNT  \\\n",
       "0   12306        18520        939.735    0.0    0.0    0.0    0.0    0.0    0   \n",
       "1   12345        18651        939.744    0.0    0.0    0.0    0.0    0.0    1   \n",
       "\n",
       "   Fire Alarm  \n",
       "0           0  \n",
       "1           0  "
      ]
     },
     "execution_count": 4,
     "metadata": {},
     "output_type": "execute_result"
    }
   ],
   "source": [
    "sd1 = sd.copy()\n",
    "sd1.head(2)"
   ]
  },
  {
   "cell_type": "code",
   "execution_count": 5,
   "id": "f44ca5da",
   "metadata": {},
   "outputs": [
    {
     "data": {
      "text/html": [
       "<div>\n",
       "<style scoped>\n",
       "    .dataframe tbody tr th:only-of-type {\n",
       "        vertical-align: middle;\n",
       "    }\n",
       "\n",
       "    .dataframe tbody tr th {\n",
       "        vertical-align: top;\n",
       "    }\n",
       "\n",
       "    .dataframe thead th {\n",
       "        text-align: right;\n",
       "    }\n",
       "</style>\n",
       "<table border=\"1\" class=\"dataframe\">\n",
       "  <thead>\n",
       "    <tr style=\"text-align: right;\">\n",
       "      <th></th>\n",
       "      <th>UTC</th>\n",
       "      <th>Temperature[C]</th>\n",
       "      <th>Humidity[%]</th>\n",
       "      <th>TVOC[ppb]</th>\n",
       "      <th>eCO2[ppm]</th>\n",
       "      <th>Raw H2</th>\n",
       "      <th>Raw Ethanol</th>\n",
       "      <th>Pressure[hPa]</th>\n",
       "      <th>PM1.0</th>\n",
       "      <th>PM2.5</th>\n",
       "      <th>NC0.5</th>\n",
       "      <th>NC1.0</th>\n",
       "      <th>NC2.5</th>\n",
       "      <th>CNT</th>\n",
       "      <th>Fire Alarm</th>\n",
       "    </tr>\n",
       "  </thead>\n",
       "  <tbody>\n",
       "    <tr>\n",
       "      <th>0</th>\n",
       "      <td>1654733331</td>\n",
       "      <td>20.000</td>\n",
       "      <td>57.36</td>\n",
       "      <td>0</td>\n",
       "      <td>400</td>\n",
       "      <td>12306</td>\n",
       "      <td>18520</td>\n",
       "      <td>939.735</td>\n",
       "      <td>0.0</td>\n",
       "      <td>0.0</td>\n",
       "      <td>0.0</td>\n",
       "      <td>0.0</td>\n",
       "      <td>0.0</td>\n",
       "      <td>0</td>\n",
       "      <td>0</td>\n",
       "    </tr>\n",
       "    <tr>\n",
       "      <th>1</th>\n",
       "      <td>1654733332</td>\n",
       "      <td>20.015</td>\n",
       "      <td>56.67</td>\n",
       "      <td>0</td>\n",
       "      <td>400</td>\n",
       "      <td>12345</td>\n",
       "      <td>18651</td>\n",
       "      <td>939.744</td>\n",
       "      <td>0.0</td>\n",
       "      <td>0.0</td>\n",
       "      <td>0.0</td>\n",
       "      <td>0.0</td>\n",
       "      <td>0.0</td>\n",
       "      <td>1</td>\n",
       "      <td>0</td>\n",
       "    </tr>\n",
       "  </tbody>\n",
       "</table>\n",
       "</div>"
      ],
      "text/plain": [
       "          UTC  Temperature[C]  Humidity[%]  TVOC[ppb]  eCO2[ppm]  Raw H2  \\\n",
       "0  1654733331          20.000        57.36          0        400   12306   \n",
       "1  1654733332          20.015        56.67          0        400   12345   \n",
       "\n",
       "   Raw Ethanol  Pressure[hPa]  PM1.0  PM2.5  NC0.5  NC1.0  NC2.5  CNT  \\\n",
       "0        18520        939.735    0.0    0.0    0.0    0.0    0.0    0   \n",
       "1        18651        939.744    0.0    0.0    0.0    0.0    0.0    1   \n",
       "\n",
       "   Fire Alarm  \n",
       "0           0  \n",
       "1           0  "
      ]
     },
     "execution_count": 5,
     "metadata": {},
     "output_type": "execute_result"
    }
   ],
   "source": [
    "# Removing of redundant column - the first column is an explicit indexing which is not needed since panda has provided an inplicit indexing\n",
    "\n",
    "sd1.drop('Unnamed: 0', axis=1, inplace=True)\n",
    "sd1.head(2)"
   ]
  },
  {
   "cell_type": "code",
   "execution_count": 6,
   "id": "38710b30",
   "metadata": {},
   "outputs": [
    {
     "data": {
      "text/html": [
       "<div>\n",
       "<style scoped>\n",
       "    .dataframe tbody tr th:only-of-type {\n",
       "        vertical-align: middle;\n",
       "    }\n",
       "\n",
       "    .dataframe tbody tr th {\n",
       "        vertical-align: top;\n",
       "    }\n",
       "\n",
       "    .dataframe thead th {\n",
       "        text-align: right;\n",
       "    }\n",
       "</style>\n",
       "<table border=\"1\" class=\"dataframe\">\n",
       "  <thead>\n",
       "    <tr style=\"text-align: right;\">\n",
       "      <th></th>\n",
       "      <th>UTC</th>\n",
       "      <th>Temperature[C]</th>\n",
       "      <th>Humidity[%]</th>\n",
       "      <th>TVOC[ppb]</th>\n",
       "      <th>eCO2[ppm]</th>\n",
       "      <th>Raw H2</th>\n",
       "      <th>Raw Ethanol</th>\n",
       "      <th>Pressure[hPa]</th>\n",
       "      <th>PM1.0</th>\n",
       "      <th>PM2.5</th>\n",
       "      <th>NC0.5</th>\n",
       "      <th>NC1.0</th>\n",
       "      <th>NC2.5</th>\n",
       "      <th>CNT</th>\n",
       "      <th>Fire Alarm</th>\n",
       "    </tr>\n",
       "  </thead>\n",
       "  <tbody>\n",
       "    <tr>\n",
       "      <th>0</th>\n",
       "      <td>1970-01-20 03:38:53.331</td>\n",
       "      <td>20.000</td>\n",
       "      <td>57.36</td>\n",
       "      <td>0</td>\n",
       "      <td>400</td>\n",
       "      <td>12306</td>\n",
       "      <td>18520</td>\n",
       "      <td>939.735</td>\n",
       "      <td>0.0</td>\n",
       "      <td>0.0</td>\n",
       "      <td>0.0</td>\n",
       "      <td>0.0</td>\n",
       "      <td>0.0</td>\n",
       "      <td>0</td>\n",
       "      <td>0</td>\n",
       "    </tr>\n",
       "    <tr>\n",
       "      <th>1</th>\n",
       "      <td>1970-01-20 03:38:53.332</td>\n",
       "      <td>20.015</td>\n",
       "      <td>56.67</td>\n",
       "      <td>0</td>\n",
       "      <td>400</td>\n",
       "      <td>12345</td>\n",
       "      <td>18651</td>\n",
       "      <td>939.744</td>\n",
       "      <td>0.0</td>\n",
       "      <td>0.0</td>\n",
       "      <td>0.0</td>\n",
       "      <td>0.0</td>\n",
       "      <td>0.0</td>\n",
       "      <td>1</td>\n",
       "      <td>0</td>\n",
       "    </tr>\n",
       "  </tbody>\n",
       "</table>\n",
       "</div>"
      ],
      "text/plain": [
       "                      UTC  Temperature[C]  Humidity[%]  TVOC[ppb]  eCO2[ppm]  \\\n",
       "0 1970-01-20 03:38:53.331          20.000        57.36          0        400   \n",
       "1 1970-01-20 03:38:53.332          20.015        56.67          0        400   \n",
       "\n",
       "   Raw H2  Raw Ethanol  Pressure[hPa]  PM1.0  PM2.5  NC0.5  NC1.0  NC2.5  CNT  \\\n",
       "0   12306        18520        939.735    0.0    0.0    0.0    0.0    0.0    0   \n",
       "1   12345        18651        939.744    0.0    0.0    0.0    0.0    0.0    1   \n",
       "\n",
       "   Fire Alarm  \n",
       "0           0  \n",
       "1           0  "
      ]
     },
     "execution_count": 6,
     "metadata": {},
     "output_type": "execute_result"
    }
   ],
   "source": [
    "# Convert UTC column from interger to datetime: UTC is Time\n",
    "\n",
    "sd1['UTC'] = pd.to_datetime(sd['UTC'], unit='ms')\n",
    "\n",
    "sd1.head(2)"
   ]
  },
  {
   "cell_type": "code",
   "execution_count": 7,
   "id": "7ae7619e",
   "metadata": {},
   "outputs": [
    {
     "data": {
      "text/html": [
       "<div>\n",
       "<style scoped>\n",
       "    .dataframe tbody tr th:only-of-type {\n",
       "        vertical-align: middle;\n",
       "    }\n",
       "\n",
       "    .dataframe tbody tr th {\n",
       "        vertical-align: top;\n",
       "    }\n",
       "\n",
       "    .dataframe thead th {\n",
       "        text-align: right;\n",
       "    }\n",
       "</style>\n",
       "<table border=\"1\" class=\"dataframe\">\n",
       "  <thead>\n",
       "    <tr style=\"text-align: right;\">\n",
       "      <th></th>\n",
       "      <th>UTC</th>\n",
       "      <th>Temperature_C</th>\n",
       "      <th>Humidity</th>\n",
       "      <th>TVOC_ppb</th>\n",
       "      <th>eCO2_ppm</th>\n",
       "      <th>Raw_H2</th>\n",
       "      <th>Raw_Ethanol</th>\n",
       "      <th>Pressure_hPa</th>\n",
       "      <th>PM1</th>\n",
       "      <th>PM2_5</th>\n",
       "      <th>NC0_5</th>\n",
       "      <th>NC1_0</th>\n",
       "      <th>NC2_5</th>\n",
       "      <th>CNT</th>\n",
       "      <th>Fire_Alarm</th>\n",
       "    </tr>\n",
       "  </thead>\n",
       "  <tbody>\n",
       "    <tr>\n",
       "      <th>0</th>\n",
       "      <td>1970-01-20 03:38:53.331</td>\n",
       "      <td>20.000</td>\n",
       "      <td>57.36</td>\n",
       "      <td>0</td>\n",
       "      <td>400</td>\n",
       "      <td>12306</td>\n",
       "      <td>18520</td>\n",
       "      <td>939.735</td>\n",
       "      <td>0.0</td>\n",
       "      <td>0.0</td>\n",
       "      <td>0.0</td>\n",
       "      <td>0.0</td>\n",
       "      <td>0.0</td>\n",
       "      <td>0</td>\n",
       "      <td>0</td>\n",
       "    </tr>\n",
       "    <tr>\n",
       "      <th>1</th>\n",
       "      <td>1970-01-20 03:38:53.332</td>\n",
       "      <td>20.015</td>\n",
       "      <td>56.67</td>\n",
       "      <td>0</td>\n",
       "      <td>400</td>\n",
       "      <td>12345</td>\n",
       "      <td>18651</td>\n",
       "      <td>939.744</td>\n",
       "      <td>0.0</td>\n",
       "      <td>0.0</td>\n",
       "      <td>0.0</td>\n",
       "      <td>0.0</td>\n",
       "      <td>0.0</td>\n",
       "      <td>1</td>\n",
       "      <td>0</td>\n",
       "    </tr>\n",
       "  </tbody>\n",
       "</table>\n",
       "</div>"
      ],
      "text/plain": [
       "                      UTC  Temperature_C  Humidity  TVOC_ppb  eCO2_ppm  \\\n",
       "0 1970-01-20 03:38:53.331         20.000     57.36         0       400   \n",
       "1 1970-01-20 03:38:53.332         20.015     56.67         0       400   \n",
       "\n",
       "   Raw_H2  Raw_Ethanol  Pressure_hPa  PM1  PM2_5  NC0_5  NC1_0  NC2_5  CNT  \\\n",
       "0   12306        18520       939.735  0.0    0.0    0.0    0.0    0.0    0   \n",
       "1   12345        18651       939.744  0.0    0.0    0.0    0.0    0.0    1   \n",
       "\n",
       "   Fire_Alarm  \n",
       "0           0  \n",
       "1           0  "
      ]
     },
     "execution_count": 7,
     "metadata": {},
     "output_type": "execute_result"
    }
   ],
   "source": [
    "# Rename Column names\n",
    "\n",
    "sd1.columns = ['UTC', 'Temperature_C', 'Humidity', 'TVOC_ppb', 'eCO2_ppm',\n",
    "       'Raw_H2', 'Raw_Ethanol', 'Pressure_hPa', 'PM1', 'PM2_5', 'NC0_5',\n",
    "       'NC1_0', 'NC2_5', 'CNT', 'Fire_Alarm']\n",
    "\n",
    "sd1.head(2)"
   ]
  },
  {
   "cell_type": "markdown",
   "id": "be903b30",
   "metadata": {},
   "source": [
    "###### Inspection"
   ]
  },
  {
   "cell_type": "code",
   "execution_count": 8,
   "id": "7a4a2ecd",
   "metadata": {},
   "outputs": [
    {
     "data": {
      "text/plain": [
       "(62630, 15)"
      ]
     },
     "execution_count": 8,
     "metadata": {},
     "output_type": "execute_result"
    }
   ],
   "source": [
    "# Dimensionality of the data\n",
    "\n",
    "sd1.shape"
   ]
  },
  {
   "cell_type": "code",
   "execution_count": 9,
   "id": "9ad630ff",
   "metadata": {
    "scrolled": true
   },
   "outputs": [
    {
     "data": {
      "text/html": [
       "<div>\n",
       "<style scoped>\n",
       "    .dataframe tbody tr th:only-of-type {\n",
       "        vertical-align: middle;\n",
       "    }\n",
       "\n",
       "    .dataframe tbody tr th {\n",
       "        vertical-align: top;\n",
       "    }\n",
       "\n",
       "    .dataframe thead th {\n",
       "        text-align: right;\n",
       "    }\n",
       "</style>\n",
       "<table border=\"1\" class=\"dataframe\">\n",
       "  <thead>\n",
       "    <tr style=\"text-align: right;\">\n",
       "      <th></th>\n",
       "      <th>Temperature_C</th>\n",
       "      <th>Humidity</th>\n",
       "      <th>TVOC_ppb</th>\n",
       "      <th>eCO2_ppm</th>\n",
       "      <th>Raw_H2</th>\n",
       "      <th>Raw_Ethanol</th>\n",
       "      <th>Pressure_hPa</th>\n",
       "      <th>PM1</th>\n",
       "      <th>PM2_5</th>\n",
       "      <th>NC0_5</th>\n",
       "      <th>NC1_0</th>\n",
       "      <th>NC2_5</th>\n",
       "      <th>CNT</th>\n",
       "      <th>Fire_Alarm</th>\n",
       "    </tr>\n",
       "  </thead>\n",
       "  <tbody>\n",
       "    <tr>\n",
       "      <th>count</th>\n",
       "      <td>62630</td>\n",
       "      <td>62630</td>\n",
       "      <td>62630</td>\n",
       "      <td>62630</td>\n",
       "      <td>62630</td>\n",
       "      <td>62630</td>\n",
       "      <td>62630</td>\n",
       "      <td>62630</td>\n",
       "      <td>62630</td>\n",
       "      <td>62630</td>\n",
       "      <td>62630</td>\n",
       "      <td>62630</td>\n",
       "      <td>62630</td>\n",
       "      <td>62630</td>\n",
       "    </tr>\n",
       "    <tr>\n",
       "      <th>mean</th>\n",
       "      <td>15</td>\n",
       "      <td>48</td>\n",
       "      <td>1942</td>\n",
       "      <td>670</td>\n",
       "      <td>12942</td>\n",
       "      <td>19754</td>\n",
       "      <td>938</td>\n",
       "      <td>100</td>\n",
       "      <td>184</td>\n",
       "      <td>491</td>\n",
       "      <td>203</td>\n",
       "      <td>80</td>\n",
       "      <td>10511</td>\n",
       "      <td>0</td>\n",
       "    </tr>\n",
       "    <tr>\n",
       "      <th>std</th>\n",
       "      <td>14</td>\n",
       "      <td>8</td>\n",
       "      <td>7811</td>\n",
       "      <td>1905</td>\n",
       "      <td>272</td>\n",
       "      <td>609</td>\n",
       "      <td>1</td>\n",
       "      <td>922</td>\n",
       "      <td>1976</td>\n",
       "      <td>4265</td>\n",
       "      <td>2214</td>\n",
       "      <td>1083</td>\n",
       "      <td>7597</td>\n",
       "      <td>0</td>\n",
       "    </tr>\n",
       "    <tr>\n",
       "      <th>min</th>\n",
       "      <td>-22</td>\n",
       "      <td>10</td>\n",
       "      <td>0</td>\n",
       "      <td>400</td>\n",
       "      <td>10668</td>\n",
       "      <td>15317</td>\n",
       "      <td>930</td>\n",
       "      <td>0</td>\n",
       "      <td>0</td>\n",
       "      <td>0</td>\n",
       "      <td>0</td>\n",
       "      <td>0</td>\n",
       "      <td>0</td>\n",
       "      <td>0</td>\n",
       "    </tr>\n",
       "    <tr>\n",
       "      <th>25%</th>\n",
       "      <td>10</td>\n",
       "      <td>47</td>\n",
       "      <td>130</td>\n",
       "      <td>400</td>\n",
       "      <td>12830</td>\n",
       "      <td>19435</td>\n",
       "      <td>938</td>\n",
       "      <td>1</td>\n",
       "      <td>1</td>\n",
       "      <td>8</td>\n",
       "      <td>1</td>\n",
       "      <td>0</td>\n",
       "      <td>3625</td>\n",
       "      <td>0</td>\n",
       "    </tr>\n",
       "    <tr>\n",
       "      <th>50%</th>\n",
       "      <td>20</td>\n",
       "      <td>50</td>\n",
       "      <td>981</td>\n",
       "      <td>400</td>\n",
       "      <td>12924</td>\n",
       "      <td>19501</td>\n",
       "      <td>938</td>\n",
       "      <td>1</td>\n",
       "      <td>1</td>\n",
       "      <td>12</td>\n",
       "      <td>1</td>\n",
       "      <td>0</td>\n",
       "      <td>9336</td>\n",
       "      <td>1</td>\n",
       "    </tr>\n",
       "    <tr>\n",
       "      <th>75%</th>\n",
       "      <td>25</td>\n",
       "      <td>53</td>\n",
       "      <td>1189</td>\n",
       "      <td>438</td>\n",
       "      <td>13109</td>\n",
       "      <td>20078</td>\n",
       "      <td>939</td>\n",
       "      <td>2</td>\n",
       "      <td>2</td>\n",
       "      <td>14</td>\n",
       "      <td>2</td>\n",
       "      <td>0</td>\n",
       "      <td>17164</td>\n",
       "      <td>1</td>\n",
       "    </tr>\n",
       "    <tr>\n",
       "      <th>max</th>\n",
       "      <td>59</td>\n",
       "      <td>75</td>\n",
       "      <td>60000</td>\n",
       "      <td>60000</td>\n",
       "      <td>13803</td>\n",
       "      <td>21410</td>\n",
       "      <td>939</td>\n",
       "      <td>14333</td>\n",
       "      <td>45432</td>\n",
       "      <td>61482</td>\n",
       "      <td>51914</td>\n",
       "      <td>30026</td>\n",
       "      <td>24993</td>\n",
       "      <td>1</td>\n",
       "    </tr>\n",
       "  </tbody>\n",
       "</table>\n",
       "</div>"
      ],
      "text/plain": [
       "       Temperature_C  Humidity  TVOC_ppb  eCO2_ppm  Raw_H2  Raw_Ethanol  \\\n",
       "count          62630     62630     62630     62630   62630        62630   \n",
       "mean              15        48      1942       670   12942        19754   \n",
       "std               14         8      7811      1905     272          609   \n",
       "min              -22        10         0       400   10668        15317   \n",
       "25%               10        47       130       400   12830        19435   \n",
       "50%               20        50       981       400   12924        19501   \n",
       "75%               25        53      1189       438   13109        20078   \n",
       "max               59        75     60000     60000   13803        21410   \n",
       "\n",
       "       Pressure_hPa    PM1  PM2_5  NC0_5  NC1_0  NC2_5    CNT  Fire_Alarm  \n",
       "count         62630  62630  62630  62630  62630  62630  62630       62630  \n",
       "mean            938    100    184    491    203     80  10511           0  \n",
       "std               1    922   1976   4265   2214   1083   7597           0  \n",
       "min             930      0      0      0      0      0      0           0  \n",
       "25%             938      1      1      8      1      0   3625           0  \n",
       "50%             938      1      1     12      1      0   9336           1  \n",
       "75%             939      2      2     14      2      0  17164           1  \n",
       "max             939  14333  45432  61482  51914  30026  24993           1  "
      ]
     },
     "execution_count": 9,
     "metadata": {},
     "output_type": "execute_result"
    }
   ],
   "source": [
    "# Statistical information of the data set\n",
    "\n",
    "sd1.describe().astype(int)"
   ]
  },
  {
   "cell_type": "code",
   "execution_count": 10,
   "id": "6912b47b",
   "metadata": {},
   "outputs": [
    {
     "name": "stdout",
     "output_type": "stream",
     "text": [
      "<class 'pandas.core.frame.DataFrame'>\n",
      "RangeIndex: 62630 entries, 0 to 62629\n",
      "Data columns (total 15 columns):\n",
      " #   Column         Non-Null Count  Dtype         \n",
      "---  ------         --------------  -----         \n",
      " 0   UTC            62630 non-null  datetime64[ns]\n",
      " 1   Temperature_C  62630 non-null  float64       \n",
      " 2   Humidity       62630 non-null  float64       \n",
      " 3   TVOC_ppb       62630 non-null  int64         \n",
      " 4   eCO2_ppm       62630 non-null  int64         \n",
      " 5   Raw_H2         62630 non-null  int64         \n",
      " 6   Raw_Ethanol    62630 non-null  int64         \n",
      " 7   Pressure_hPa   62630 non-null  float64       \n",
      " 8   PM1            62630 non-null  float64       \n",
      " 9   PM2_5          62630 non-null  float64       \n",
      " 10  NC0_5          62630 non-null  float64       \n",
      " 11  NC1_0          62630 non-null  float64       \n",
      " 12  NC2_5          62630 non-null  float64       \n",
      " 13  CNT            62630 non-null  int64         \n",
      " 14  Fire_Alarm     62630 non-null  int64         \n",
      "dtypes: datetime64[ns](1), float64(8), int64(6)\n",
      "memory usage: 7.2 MB\n"
     ]
    }
   ],
   "source": [
    "# overview of the dataset - data verification\n",
    "\n",
    "sd1.info()"
   ]
  },
  {
   "cell_type": "code",
   "execution_count": 11,
   "id": "2b1c8a52",
   "metadata": {},
   "outputs": [
    {
     "data": {
      "text/plain": [
       "UTC              0\n",
       "Temperature_C    0\n",
       "Humidity         0\n",
       "TVOC_ppb         0\n",
       "eCO2_ppm         0\n",
       "Raw_H2           0\n",
       "Raw_Ethanol      0\n",
       "Pressure_hPa     0\n",
       "PM1              0\n",
       "PM2_5            0\n",
       "NC0_5            0\n",
       "NC1_0            0\n",
       "NC2_5            0\n",
       "CNT              0\n",
       "Fire_Alarm       0\n",
       "dtype: int64"
      ]
     },
     "execution_count": 11,
     "metadata": {},
     "output_type": "execute_result"
    }
   ],
   "source": [
    "# Checking for null/missing values\n",
    "\n",
    "sd1.isna().sum()"
   ]
  },
  {
   "cell_type": "markdown",
   "id": "264dc005",
   "metadata": {},
   "source": [
    "## Exploratory Analysis (EDA)"
   ]
  },
  {
   "cell_type": "markdown",
   "id": "8284c608",
   "metadata": {},
   "source": [
    "#### Univariate Analysis"
   ]
  },
  {
   "cell_type": "code",
   "execution_count": 12,
   "id": "f0111b14",
   "metadata": {},
   "outputs": [
    {
     "data": {
      "text/plain": [
       "Text(0.5, 1.0, 'Temperature[C]')"
      ]
     },
     "execution_count": 12,
     "metadata": {},
     "output_type": "execute_result"
    },
    {
     "data": {
      "image/png": "[encoded data removed]",
      "text/plain": [
       "<Figure size 576x288 with 1 Axes>"
      ]
     },
     "metadata": {
      "needs_background": "light"
     },
     "output_type": "display_data"
    }
   ],
   "source": [
    "# Temperature\n",
    "\n",
    "# create a function that categorises Temperature\n",
    "def tempt_bracket (Temperature_C):\n",
    "    if Temperature_C <=9:\n",
    "        return \"Very low\"\n",
    "    elif Temperature_C <=18:\n",
    "        return \"Low\"\n",
    "    elif Temperature_C <=27:\n",
    "        return \"High\"\n",
    "    else: \n",
    "        return \"Very High\"\n",
    "\n",
    "    \n",
    "# Create a new column for age category\n",
    "sd1[\"tempt_group\"] = sd1[\"Temperature_C\"].apply(tempt_bracket)\n",
    "\n",
    "\n",
    "#Create visualization\n",
    "fig, ax1 = plt.subplots(figsize = (8,4))\n",
    "plt.ticklabel_format(style='plain')\n",
    "viz = sns.countplot(ax =ax1, x = \"tempt_group\", data = sd1)\n",
    "viz.set_xticklabels(viz.get_xticklabels(), rotation=90)\n",
    "for i in viz.patches:\n",
    "    height = i.get_height()\n",
    "    viz.text(i.get_x() + i.get_width()/2., height + 0.1, height, ha=\"center\")\n",
    "plt.title('Temperature[C]')"
   ]
  },
  {
   "cell_type": "markdown",
   "id": "13d265bc",
   "metadata": {},
   "source": [
    "Temperature between 17 to 27 degree are more on the dataset "
   ]
  },
  {
   "cell_type": "code",
   "execution_count": 13,
   "id": "415b7014",
   "metadata": {},
   "outputs": [
    {
     "data": {
      "text/plain": [
       "Text(0.5, 1.0, 'Humidity')"
      ]
     },
     "execution_count": 13,
     "metadata": {},
     "output_type": "execute_result"
    },
    {
     "data": {
      "image/png": "[encoded data removed]",
      "text/plain": [
       "<Figure size 576x288 with 1 Axes>"
      ]
     },
     "metadata": {
      "needs_background": "light"
     },
     "output_type": "display_data"
    }
   ],
   "source": [
    "# Humidity\n",
    "\n",
    "# create a function that categorises Humidity\n",
    "def humi_bracket (Humidity):\n",
    "    if Humidity <=16:\n",
    "        return \"Very low\"\n",
    "    elif Humidity <=32:\n",
    "        return \"Low\"\n",
    "    elif Humidity <=48:\n",
    "        return \"High\"\n",
    "    else: \n",
    "        return \"Very High\"\n",
    "\n",
    "    \n",
    "# Create a new column for age category\n",
    "sd1[\"humi_group\"] = sd1[\"Humidity\"].apply(humi_bracket)\n",
    "\n",
    "\n",
    "#Create visualization\n",
    "fig, ax1 = plt.subplots(figsize = (8,4))\n",
    "plt.ticklabel_format(style='plain')\n",
    "viz = sns.countplot(ax =ax1, x = \"humi_group\", data = sd1)\n",
    "viz.set_xticklabels(viz.get_xticklabels(), rotation=90)\n",
    "for i in viz.patches:\n",
    "    height = i.get_height()\n",
    "    viz.text(i.get_x() + i.get_width()/2., height + 0.1, height, ha=\"center\")\n",
    "plt.title('Humidity')"
   ]
  },
  {
   "cell_type": "markdown",
   "id": "8bb14f3e",
   "metadata": {},
   "source": [
    "Humidity Percentage greater than 48 is more in the dataset, compared to others"
   ]
  },
  {
   "cell_type": "code",
   "execution_count": 14,
   "id": "93512f91",
   "metadata": {},
   "outputs": [
    {
     "data": {
      "text/plain": [
       "Text(0.5, 1.0, 'TVOC_ppb')"
      ]
     },
     "execution_count": 14,
     "metadata": {},
     "output_type": "execute_result"
    },
    {
     "data": {
      "image/png": "[encoded data removed]",
      "text/plain": [
       "<Figure size 576x288 with 1 Axes>"
      ]
     },
     "metadata": {
      "needs_background": "light"
     },
     "output_type": "display_data"
    }
   ],
   "source": [
    "# TVOC\n",
    "\n",
    "# create a function that categorises TVOC\n",
    "def tvoc_bracket (TVOC_ppb):\n",
    "    if TVOC_ppb <=15000:\n",
    "        return \"Very low\"\n",
    "    elif TVOC_ppb <=30000:\n",
    "        return \"Low\"\n",
    "    elif TVOC_ppb <=45000:\n",
    "        return \"High\"\n",
    "    else: \n",
    "        return \"Very High\"\n",
    "\n",
    "    \n",
    "# Create a new column for age category\n",
    "sd1[\"tvoc_group\"] = sd1[\"TVOC_ppb\"].apply(tvoc_bracket)\n",
    "\n",
    "\n",
    "#Create visualization\n",
    "fig, ax1 = plt.subplots(figsize = (8,4))\n",
    "plt.ticklabel_format(style='plain')\n",
    "viz = sns.countplot(ax =ax1, x = \"tvoc_group\", data = sd1)\n",
    "viz.set_xticklabels(viz.get_xticklabels(), rotation=90)\n",
    "for i in viz.patches:\n",
    "    height = i.get_height()\n",
    "    viz.text(i.get_x() + i.get_width()/2., height + 0.1, height, ha=\"center\")\n",
    "plt.title('TVOC_ppb')"
   ]
  },
  {
   "cell_type": "markdown",
   "id": "952328a6",
   "metadata": {},
   "source": [
    "Total Volatile Organic Compounds (TVOC) less than/ equal to 15000ppb are more in the dataset."
   ]
  },
  {
   "cell_type": "code",
   "execution_count": 15,
   "id": "546fb98d",
   "metadata": {},
   "outputs": [
    {
     "data": {
      "text/plain": [
       "Text(0.5, 1.0, 'eCO2_ppm')"
      ]
     },
     "execution_count": 15,
     "metadata": {},
     "output_type": "execute_result"
    },
    {
     "data": {
      "image/png": "[encoded data removed]",
      "text/plain": [
       "<Figure size 576x288 with 1 Axes>"
      ]
     },
     "metadata": {
      "needs_background": "light"
     },
     "output_type": "display_data"
    }
   ],
   "source": [
    "# eCO2_ppm\n",
    "\n",
    "# create a function that categorises TVOC\n",
    "def eCO2_bracket (eCO2_ppm):\n",
    "    if eCO2_ppm <=15000:\n",
    "        return \"Very low\"\n",
    "    elif eCO2_ppm <=30000:\n",
    "        return \"Low\"\n",
    "    elif eCO2_ppm <=45000:\n",
    "        return \"High\"\n",
    "    else: \n",
    "        return \"Very High\"\n",
    "\n",
    "    \n",
    "# Create a new column for age category\n",
    "sd1[\"eCO2_group\"] = sd1[\"eCO2_ppm\"].apply(eCO2_bracket)\n",
    "\n",
    "\n",
    "#Create visualization\n",
    "fig, ax1 = plt.subplots(figsize = (8,4))\n",
    "plt.ticklabel_format(style='plain')\n",
    "viz = sns.countplot(ax =ax1, x = \"eCO2_group\", data = sd1)\n",
    "viz.set_xticklabels(viz.get_xticklabels(), rotation=90)\n",
    "for i in viz.patches:\n",
    "    height = i.get_height()\n",
    "    viz.text(i.get_x() + i.get_width()/2., height + 0.1, height, ha=\"center\")\n",
    "plt.title('eCO2_ppm')"
   ]
  },
  {
   "cell_type": "markdown",
   "id": "6a100cc5",
   "metadata": {},
   "source": [
    "CO2 equivalent concentration (eCO2) less than/ equal to 15000ppm are more in the dataset"
   ]
  },
  {
   "cell_type": "code",
   "execution_count": 16,
   "id": "31099c78",
   "metadata": {},
   "outputs": [
    {
     "data": {
      "text/plain": [
       "Text(0.5, 1.0, 'Raw_H2')"
      ]
     },
     "execution_count": 16,
     "metadata": {},
     "output_type": "execute_result"
    },
    {
     "data": {
      "image/png": "[encoded data removed]",
      "text/plain": [
       "<Figure size 576x288 with 1 Axes>"
      ]
     },
     "metadata": {
      "needs_background": "light"
     },
     "output_type": "display_data"
    }
   ],
   "source": [
    "# Raw H2\n",
    "\n",
    "# create a function that categorises Raw H2\n",
    "def Raw_H2_bracket (Raw_H2):\n",
    "    if Raw_H2 <= 10668:\n",
    "        return \"Very low\"\n",
    "    elif Raw_H2 <=11468:\n",
    "        return \"Low\"\n",
    "    elif Raw_H2 <=12268:\n",
    "        return \"High\"\n",
    "    else: \n",
    "        return \"Very High\"\n",
    "\n",
    "    \n",
    "# Create a new column for age category\n",
    "sd1[\"Raw_H2_group\"] = sd1[\"Raw_H2\"].apply(Raw_H2_bracket)\n",
    "\n",
    "\n",
    "#Create visualization\n",
    "fig, ax1 = plt.subplots(figsize = (8,4))\n",
    "plt.ticklabel_format(style='plain')\n",
    "viz = sns.countplot(ax =ax1, x = \"Raw_H2_group\", data = sd1)\n",
    "viz.set_xticklabels(viz.get_xticklabels(), rotation=90)\n",
    "for i in viz.patches:\n",
    "    height = i.get_height()\n",
    "    viz.text(i.get_x() + i.get_width()/2., height + 0.1, height, ha=\"center\")\n",
    "plt.title('Raw_H2')"
   ]
  },
  {
   "cell_type": "markdown",
   "id": "43f7701c",
   "metadata": {},
   "source": [
    " Raw Hydrogen level greater than 12268 is more in the dataset."
   ]
  },
  {
   "cell_type": "code",
   "execution_count": 17,
   "id": "f141ae8f",
   "metadata": {},
   "outputs": [
    {
     "data": {
      "text/plain": [
       "Text(0.5, 1.0, 'Raw_Ethanol')"
      ]
     },
     "execution_count": 17,
     "metadata": {},
     "output_type": "execute_result"
    },
    {
     "data": {
      "image/png": "[encoded data removed]",
      "text/plain": [
       "<Figure size 576x288 with 1 Axes>"
      ]
     },
     "metadata": {
      "needs_background": "light"
     },
     "output_type": "display_data"
    }
   ],
   "source": [
    "# Raw_Ethanol \n",
    "\n",
    "# create a function that categorises Raw_Ethanol \n",
    "def Raw_Ethanol_bracket (Raw_Ethanol):\n",
    "    if Raw_Ethanol <= 15317:\n",
    "        return \"Very low\"\n",
    "    elif Raw_Ethanol <=16817:\n",
    "        return \"Low\"\n",
    "    elif Raw_Ethanol <=18317:\n",
    "        return \"High\"\n",
    "    else: \n",
    "        return \"Very High\"\n",
    "\n",
    "    \n",
    "# Create a new column for age category\n",
    "sd1[\"Raw_Ethanol_group\"] = sd1[\"Raw_Ethanol\"].apply(Raw_Ethanol_bracket)\n",
    "\n",
    "\n",
    "#Create visualization\n",
    "fig, ax1 = plt.subplots(figsize = (8,4))\n",
    "plt.ticklabel_format(style='plain')\n",
    "viz = sns.countplot(ax =ax1, x = \"Raw_Ethanol_group\", data = sd1)\n",
    "viz.set_xticklabels(viz.get_xticklabels(), rotation=90)\n",
    "for i in viz.patches:\n",
    "    height = i.get_height()\n",
    "    viz.text(i.get_x() + i.get_width()/2., height + 0.1, height, ha=\"center\")\n",
    "plt.title('Raw_Ethanol')"
   ]
  },
  {
   "cell_type": "markdown",
   "id": "cd84abd3",
   "metadata": {},
   "source": [
    "Raw Ethanol greater than 18317 is most in the dataset"
   ]
  },
  {
   "cell_type": "code",
   "execution_count": 18,
   "id": "f162e93a",
   "metadata": {},
   "outputs": [
    {
     "data": {
      "text/plain": [
       "Text(0.5, 1.0, 'Pressure_hPa')"
      ]
     },
     "execution_count": 18,
     "metadata": {},
     "output_type": "execute_result"
    },
    {
     "data": {
      "image/png": "[encoded data removed]",
      "text/plain": [
       "<Figure size 576x288 with 1 Axes>"
      ]
     },
     "metadata": {
      "needs_background": "light"
     },
     "output_type": "display_data"
    }
   ],
   "source": [
    "#Pressure_hPa\n",
    "\n",
    "# create a function that categorises Pressure_hPa\n",
    "def Pressure_hPa_bracket (Pressure_hPa):\n",
    "    if Pressure_hPa <= 935:\n",
    "        return \"Low\"\n",
    "    \n",
    "    else: \n",
    "        return \"High\"\n",
    "\n",
    "    \n",
    "# Create a new column for age category\n",
    "sd1[\"Pressure_hPa_group\"] = sd1[\"Pressure_hPa\"].apply(Pressure_hPa_bracket)\n",
    "\n",
    "\n",
    "#Create visualization\n",
    "fig, ax1 = plt.subplots(figsize = (8,4))\n",
    "plt.ticklabel_format(style='plain')\n",
    "viz = sns.countplot(ax =ax1, x = \"Pressure_hPa_group\", data = sd1)\n",
    "viz.set_xticklabels(viz.get_xticklabels(), rotation=90)\n",
    "for i in viz.patches:\n",
    "    height = i.get_height()\n",
    "    viz.text(i.get_x() + i.get_width()/2., height + 0.1, height, ha=\"center\")\n",
    "plt.title('Pressure_hPa')"
   ]
  },
  {
   "cell_type": "markdown",
   "id": "7de25a29",
   "metadata": {},
   "source": [
    "Pressure measurement greater than 935 are most in the dataset"
   ]
  },
  {
   "cell_type": "code",
   "execution_count": 19,
   "id": "35fa175d",
   "metadata": {},
   "outputs": [
    {
     "data": {
      "text/plain": [
       "Text(0.5, 1.0, 'PM1')"
      ]
     },
     "execution_count": 19,
     "metadata": {},
     "output_type": "execute_result"
    },
    {
     "data": {
      "image/png": "[encoded data removed]",
      "text/plain": [
       "<Figure size 576x288 with 1 Axes>"
      ]
     },
     "metadata": {
      "needs_background": "light"
     },
     "output_type": "display_data"
    }
   ],
   "source": [
    "#PM1.0\n",
    "\n",
    "# create a function that categorises PM1.0\n",
    "def PM1_bracket (PM1):\n",
    "    if PM1 <= 2867:\n",
    "        return \"Very low\"\n",
    "    elif PM1 <=5734:\n",
    "        return \"Low\"\n",
    "    elif PM1 <= 8601:\n",
    "        return \"Medium\"\n",
    "    elif PM1 <=11468:\n",
    "        return \"High\"\n",
    "    else: \n",
    "        return \"Very High\"\n",
    "\n",
    "    \n",
    "# Create a new column for age category\n",
    "sd1[\"PM1_group\"] = sd1[\"PM1\"].apply(PM1_bracket)\n",
    "\n",
    "\n",
    "#Create visualization\n",
    "fig, ax1 = plt.subplots(figsize = (8,4))\n",
    "plt.ticklabel_format(style='plain')\n",
    "viz = sns.countplot(ax =ax1, x = \"PM1_group\", data = sd1)\n",
    "viz.set_xticklabels(viz.get_xticklabels(), rotation=90)\n",
    "for i in viz.patches:\n",
    "    height = i.get_height()\n",
    "    viz.text(i.get_x() + i.get_width()/2., height + 0.1, height, ha=\"center\")\n",
    "plt.title('PM1')"
   ]
  },
  {
   "cell_type": "markdown",
   "id": "d563871a",
   "metadata": {},
   "source": [
    "PM1.0 measurement less than 2867 (very low) had the highest distributions in the dataset "
   ]
  },
  {
   "cell_type": "code",
   "execution_count": 20,
   "id": "7fb5fc4c",
   "metadata": {},
   "outputs": [
    {
     "data": {
      "text/plain": [
       "Text(0.5, 1.0, 'PM2.5')"
      ]
     },
     "execution_count": 20,
     "metadata": {},
     "output_type": "execute_result"
    },
    {
     "data": {
      "image/png": "[encoded data removed]",
      "text/plain": [
       "<Figure size 576x288 with 1 Axes>"
      ]
     },
     "metadata": {
      "needs_background": "light"
     },
     "output_type": "display_data"
    }
   ],
   "source": [
    "#PM2.5\n",
    "\n",
    "# create a function that categorises PM2.5\n",
    "def PM2_5_bracket (PM2_5):\n",
    "    if PM2_5 <= 9086:\n",
    "        return \"Very low\"\n",
    "    elif PM2_5 <=18172:\n",
    "        return \"Low\"\n",
    "    elif PM2_5 <= 27258:\n",
    "        return \"Medium\"\n",
    "    elif PM2_5 <=36344:\n",
    "        return \"High\"\n",
    "    else: \n",
    "        return \"Very High\"\n",
    "\n",
    "    \n",
    "# Create a new column for age category\n",
    "sd1[\"PM2_5_group\"] = sd1[\"PM2_5\"].apply(PM2_5_bracket)\n",
    "\n",
    "\n",
    "#Create visualization\n",
    "fig, ax1 = plt.subplots(figsize = (8,4))\n",
    "plt.ticklabel_format(style='plain')\n",
    "viz = sns.countplot(ax =ax1, x = \"PM2_5_group\", data = sd1)\n",
    "viz.set_xticklabels(viz.get_xticklabels(), rotation=90)\n",
    "for i in viz.patches:\n",
    "    height = i.get_height()\n",
    "    viz.text(i.get_x() + i.get_width()/2., height + 0.1, height, ha=\"center\")\n",
    "plt.title('PM2.5')"
   ]
  },
  {
   "cell_type": "markdown",
   "id": "1efc908a",
   "metadata": {},
   "source": [
    "PM2.5 measurement less than 9086 (very low) had the highest distributions in the dataset "
   ]
  },
  {
   "cell_type": "code",
   "execution_count": 21,
   "id": "448a0cfd",
   "metadata": {},
   "outputs": [
    {
     "data": {
      "text/plain": [
       "Text(0.5, 1.0, 'NC0.5')"
      ]
     },
     "execution_count": 21,
     "metadata": {},
     "output_type": "execute_result"
    },
    {
     "data": {
      "image/png": "[encoded data removed]",
      "text/plain": [
       "<Figure size 576x288 with 1 Axes>"
      ]
     },
     "metadata": {
      "needs_background": "light"
     },
     "output_type": "display_data"
    }
   ],
   "source": [
    "#NC0.5\n",
    "\n",
    "# create a function that categorises NC0.5\n",
    "def NC0_5_bracket (NC0_5):\n",
    "    if NC0_5 <= 12296:\n",
    "        return \"Very low\"\n",
    "    elif NC0_5 <=24592:\n",
    "        return \"Low\"\n",
    "    elif NC0_5 <= 36888:\n",
    "        return \"Medium\"\n",
    "    elif NC0_5 <=49184:\n",
    "        return \"High\"\n",
    "    else: \n",
    "        return \"Very High\"\n",
    "\n",
    "    \n",
    "# Create a new column for age category\n",
    "sd1[\"NC0_5_group\"] = sd1[\"NC0_5\"].apply(NC0_5_bracket)\n",
    "\n",
    "\n",
    "#Create visualization\n",
    "fig, ax1 = plt.subplots(figsize = (8,4))\n",
    "plt.ticklabel_format(style='plain')\n",
    "viz = sns.countplot(ax =ax1, x = \"NC0_5_group\", data = sd1)\n",
    "viz.set_xticklabels(viz.get_xticklabels(), rotation=90)\n",
    "for i in viz.patches:\n",
    "    height = i.get_height()\n",
    "    viz.text(i.get_x() + i.get_width()/2., height + 0.1, height, ha=\"center\")\n",
    "plt.title('NC0.5')"
   ]
  },
  {
   "cell_type": "markdown",
   "id": "ab08dd9c",
   "metadata": {},
   "source": [
    "NC0.5 measurement less than 12296 (very low) had the highest distribution in the dataset "
   ]
  },
  {
   "cell_type": "code",
   "execution_count": 22,
   "id": "6d3feada",
   "metadata": {},
   "outputs": [
    {
     "data": {
      "text/plain": [
       "Text(0.5, 1.0, 'NC1.0')"
      ]
     },
     "execution_count": 22,
     "metadata": {},
     "output_type": "execute_result"
    },
    {
     "data": {
      "image/png": "[encoded data removed]",
      "text/plain": [
       "<Figure size 576x288 with 1 Axes>"
      ]
     },
     "metadata": {
      "needs_background": "light"
     },
     "output_type": "display_data"
    }
   ],
   "source": [
    "#NC1.0\n",
    "\n",
    "# create a function that categorises NC1.0\n",
    "def NC1_0_bracket (NC1_0):\n",
    "    if NC1_0 <= 10382:\n",
    "        return \"Very low\"\n",
    "    elif NC1_0 <=20764:\n",
    "        return \"Low\"\n",
    "    elif NC1_0 <= 31146:\n",
    "        return \"Medium\"\n",
    "    elif NC1_0 <=41528:\n",
    "        return \"High\"\n",
    "    else: \n",
    "        return \"Very High\"\n",
    "\n",
    "    \n",
    "# Create a new column for age category\n",
    "sd1[\"NC1_0_group\"] = sd1[\"NC1_0\"].apply(NC1_0_bracket)\n",
    "\n",
    "\n",
    "#Create visualization\n",
    "fig, ax1 = plt.subplots(figsize = (8,4))\n",
    "plt.ticklabel_format(style='plain')\n",
    "viz = sns.countplot(ax =ax1, x = \"NC1_0_group\", data = sd1)\n",
    "viz.set_xticklabels(viz.get_xticklabels(), rotation=90)\n",
    "for i in viz.patches:\n",
    "    height = i.get_height()\n",
    "    viz.text(i.get_x() + i.get_width()/2., height + 0.1, height, ha=\"center\")\n",
    "plt.title('NC1.0')"
   ]
  },
  {
   "cell_type": "markdown",
   "id": "3f3a717b",
   "metadata": {},
   "source": [
    "NC1.0 measurement less than 10382 (very low) had the highest distribution in the dataset "
   ]
  },
  {
   "cell_type": "code",
   "execution_count": 23,
   "id": "1196f455",
   "metadata": {},
   "outputs": [
    {
     "data": {
      "text/plain": [
       "Text(0.5, 1.0, 'NC2.5')"
      ]
     },
     "execution_count": 23,
     "metadata": {},
     "output_type": "execute_result"
    },
    {
     "data": {
      "image/png": "[encoded data removed]",
      "text/plain": [
       "<Figure size 576x288 with 1 Axes>"
      ]
     },
     "metadata": {
      "needs_background": "light"
     },
     "output_type": "display_data"
    }
   ],
   "source": [
    "#NC2.5\n",
    "\n",
    "# create a function that categorises PM2.5\n",
    "def NC2_5_bracket (NC2_5):\n",
    "    if NC2_5 <= 6005:\n",
    "        return \"Very low\"\n",
    "    elif NC2_5 <=12010:\n",
    "        return \"Low\"\n",
    "    elif NC2_5 <= 18015:\n",
    "        return \"Medium\"\n",
    "    elif NC2_5 <=24020:\n",
    "        return \"High\"\n",
    "    else: \n",
    "        return \"Very High\"\n",
    "\n",
    "    \n",
    "# Create a new column for age category\n",
    "sd1[\"NC2_5_group\"] = sd1[\"NC2_5\"].apply(NC2_5_bracket)\n",
    "\n",
    "\n",
    "#Create visualization\n",
    "fig, ax1 = plt.subplots(figsize = (8,4))\n",
    "plt.ticklabel_format(style='plain')\n",
    "viz = sns.countplot(ax =ax1, x = \"NC2_5_group\", data = sd1)\n",
    "viz.set_xticklabels(viz.get_xticklabels(), rotation=90)\n",
    "for i in viz.patches:\n",
    "    height = i.get_height()\n",
    "    viz.text(i.get_x() + i.get_width()/2., height + 0.1, height, ha=\"center\")\n",
    "plt.title('NC2.5')"
   ]
  },
  {
   "cell_type": "markdown",
   "id": "abc565b5",
   "metadata": {},
   "source": [
    "NC2.5 measurement less than 6005 (very low) had the highest distribution in the dataset "
   ]
  },
  {
   "cell_type": "code",
   "execution_count": 24,
   "id": "a6e46968",
   "metadata": {},
   "outputs": [
    {
     "data": {
      "text/plain": [
       "Text(0.5, 1.0, 'CNT')"
      ]
     },
     "execution_count": 24,
     "metadata": {},
     "output_type": "execute_result"
    },
    {
     "data": {
      "image/png": "[encoded data removed]",
      "text/plain": [
       "<Figure size 576x288 with 1 Axes>"
      ]
     },
     "metadata": {
      "needs_background": "light"
     },
     "output_type": "display_data"
    }
   ],
   "source": [
    "#CNT\n",
    "\n",
    "# create a function that categorises PM2.5\n",
    "def CNT_bracket (CNT):\n",
    "    if CNT <= 4998:\n",
    "        return \"Very low\"\n",
    "    elif CNT <=9996:\n",
    "        return \"Low\"\n",
    "    elif CNT <= 14994:\n",
    "        return \"Medium\"\n",
    "    elif CNT <=19992:\n",
    "        return \"High\"\n",
    "    else: \n",
    "        return \"Very High\"\n",
    "\n",
    "    \n",
    "# Create a new column for age category\n",
    "sd1[\"CNT_group\"] = sd1[\"CNT\"].apply(CNT_bracket)\n",
    "\n",
    "\n",
    "#Create visualization\n",
    "fig, ax1 = plt.subplots(figsize = (8,4))\n",
    "plt.ticklabel_format(style='plain')\n",
    "viz = sns.countplot(ax =ax1, x = \"CNT_group\", data = sd1)\n",
    "viz.set_xticklabels(viz.get_xticklabels(), rotation=90)\n",
    "for i in viz.patches:\n",
    "    height = i.get_height()\n",
    "    viz.text(i.get_x() + i.get_width()/2., height + 0.1, height, ha=\"center\")\n",
    "plt.title('CNT')"
   ]
  },
  {
   "cell_type": "markdown",
   "id": "ba1b5b9c",
   "metadata": {},
   "source": [
    "CNT measurement less than 4998 (very low) had the highest distribution in the dataset "
   ]
  },
  {
   "cell_type": "code",
   "execution_count": 25,
   "id": "c7671c90",
   "metadata": {},
   "outputs": [
    {
     "data": {
      "text/plain": [
       "<AxesSubplot:title={'center':'Fire Alarm'}, ylabel='Fire_Pres'>"
      ]
     },
     "execution_count": 25,
     "metadata": {},
     "output_type": "execute_result"
    },
    {
     "data": {
      "image/png": "[encoded data removed]",
      "text/plain": [
       "<Figure size 720x360 with 1 Axes>"
      ]
     },
     "metadata": {},
     "output_type": "display_data"
    }
   ],
   "source": [
    "# Fire Alarm (1 = Fire Presence, 0 = No Fire)\n",
    "\n",
    "# Create Function that categorise Fraud\n",
    "def FireP(Fire_Alarm):\n",
    "    if Fire_Alarm == 1:\n",
    "        return 'Fire'\n",
    "    else:\n",
    "        return 'No_Fire'\n",
    "    \n",
    "sd1['Fire_Pres'] = sd1['Fire_Alarm'].apply(FireP)\n",
    "\n",
    "#Create visualization for Fire Alarm using Fire Pres Column\n",
    "plt.figure(figsize = (10,5))\n",
    "plt.title('Fire Alarm')\n",
    "sd1['Fire_Pres'].value_counts(normalize=True).plot.pie(autopct=\"%.2f\")"
   ]
  },
  {
   "cell_type": "markdown",
   "id": "6c229a47",
   "metadata": {},
   "source": [
    "There are more of Fire Presence (about 71%), than No Fire presence in the dataset"
   ]
  },
  {
   "cell_type": "markdown",
   "id": "e7865679",
   "metadata": {},
   "source": [
    "#### Bivariate Analysis"
   ]
  },
  {
   "cell_type": "code",
   "execution_count": 26,
   "id": "329f683d",
   "metadata": {},
   "outputs": [
    {
     "data": {
      "image/png": "[encoded data removed]",
      "text/plain": [
       "<Figure size 432x288 with 1 Axes>"
      ]
     },
     "metadata": {
      "needs_background": "light"
     },
     "output_type": "display_data"
    }
   ],
   "source": [
    "sns.barplot(x=\"tempt_group\", y=\"Humidity\", data=sd1, ci=None)\n",
    "plt.title(\"Temperature Vs. Humidity\")\n",
    "plt.xlabel(\"Temperature\")\n",
    "plt.ylabel(\"Humidity\")\n",
    "\n",
    "plt.show()"
   ]
  },
  {
   "cell_type": "markdown",
   "id": "75207e6b",
   "metadata": {},
   "source": [
    "High temperature measurements had the highest Humidity Measurement. "
   ]
  },
  {
   "cell_type": "code",
   "execution_count": 27,
   "id": "8ea4dc9f",
   "metadata": {},
   "outputs": [
    {
     "data": {
      "image/png": "[encoded data removed]",
      "text/plain": [
       "<Figure size 432x288 with 1 Axes>"
      ]
     },
     "metadata": {
      "needs_background": "light"
     },
     "output_type": "display_data"
    }
   ],
   "source": [
    "sns.violinplot(x=\"tempt_group\", y=\"Pressure_hPa\", data=sd1)\n",
    "plt.title(\"Temperature Vs. Pressure\")\n",
    "plt.xlabel(\"Temperature\")\n",
    "plt.ylabel(\"Pressure\")\n",
    "\n",
    "plt.show()"
   ]
  },
  {
   "cell_type": "markdown",
   "id": "99d89007",
   "metadata": {},
   "source": [
    "Though there are lots of outliers on the \"Very High\" Temperature measurement, It had the highest Pressure Measurement."
   ]
  },
  {
   "cell_type": "code",
   "execution_count": 28,
   "id": "ba7850d0",
   "metadata": {},
   "outputs": [
    {
     "data": {
      "image/png": "[encoded data removed]",
      "text/plain": [
       "<Figure size 432x288 with 1 Axes>"
      ]
     },
     "metadata": {
      "needs_background": "light"
     },
     "output_type": "display_data"
    }
   ],
   "source": [
    "sns.lineplot(x=\"Fire_Pres\", y=\"CNT\", data=sd1)\n",
    "plt.title(\"CNT Vs. Presence of Fire\")\n",
    "plt.xlabel(\"Fire Presence\")\n",
    "plt.ylabel(\"CNT\")\n",
    "\n",
    "plt.show()"
   ]
  },
  {
   "cell_type": "markdown",
   "id": "3095e02d",
   "metadata": {},
   "source": [
    "There is a Positive Correlation between Fire Presence (Fire Alarm) and CNT. Meaning increase in CNT amount indicated occurence of Fire."
   ]
  },
  {
   "cell_type": "code",
   "execution_count": 29,
   "id": "4331d2cf",
   "metadata": {},
   "outputs": [
    {
     "data": {
      "image/png": "[encoded data removed]",
      "text/plain": [
       "<Figure size 432x288 with 1 Axes>"
      ]
     },
     "metadata": {
      "needs_background": "light"
     },
     "output_type": "display_data"
    }
   ],
   "source": [
    "sns.lineplot(x=\"Fire_Pres\", y=\"Humidity\", data=sd1)\n",
    "plt.title(\"Humidity' Vs. Presence of Fire\")\n",
    "plt.xlabel(\"Fire Presence\")\n",
    "plt.ylabel(\"Humidity'\")\n",
    "\n",
    "plt.show()"
   ]
  },
  {
   "cell_type": "markdown",
   "id": "ec1dba88",
   "metadata": {},
   "source": [
    "There is a Positive Correlation between Fire Presence (Fire Alarm) and Humidity. Meaning increase in Humidity amount indicated occurence of Fire."
   ]
  },
  {
   "cell_type": "code",
   "execution_count": 66,
   "id": "37cce043",
   "metadata": {},
   "outputs": [
    {
     "data": {
      "image/png": "[encoded data removed]",
      "text/plain": [
       "<Figure size 432x288 with 1 Axes>"
      ]
     },
     "metadata": {
      "needs_background": "light"
     },
     "output_type": "display_data"
    }
   ],
   "source": [
    "sns.lineplot(x=\"Fire_Alarm\", y=\"Temperature_C\", data=sd1)\n",
    "plt.title(\"Temperature Vs. Presence of Fire\")\n",
    "plt.xlabel(\"Fire Presence\")\n",
    "plt.ylabel(\"Temperature\")\n",
    "\n",
    "plt.show()"
   ]
  },
  {
   "cell_type": "markdown",
   "id": "4b1c4ecd",
   "metadata": {},
   "source": [
    "Recall: 1.0(Fire Presence), and 0.0 (No fire). In the chart above, It shows that there is a negative correlation between temperature and Fire_Alarm. "
   ]
  },
  {
   "cell_type": "code",
   "execution_count": 30,
   "id": "5f4d1a4f",
   "metadata": {},
   "outputs": [
    {
     "data": {
      "image/png": "[encoded data removed]",
      "text/plain": [
       "<Figure size 432x288 with 1 Axes>"
      ]
     },
     "metadata": {
      "needs_background": "light"
     },
     "output_type": "display_data"
    }
   ],
   "source": [
    "sns.lineplot(x=\"Fire_Pres\", y=\"Pressure_hPa\", data=sd1)\n",
    "plt.title(\"Pressure_hPa Vs. Presence of Fire\")\n",
    "plt.xlabel(\"Fire Presence\")\n",
    "plt.ylabel(\"Pressure_hPa\")\n",
    "\n",
    "plt.show()"
   ]
  },
  {
   "cell_type": "markdown",
   "id": "612e6a5f",
   "metadata": {},
   "source": [
    "There is a Positive Correlation between Fire Presence (Fire Alarm) and Pressure. Meaning increase in Pressure amount indicated occurence of Fire."
   ]
  },
  {
   "cell_type": "code",
   "execution_count": 31,
   "id": "ebdf6499",
   "metadata": {},
   "outputs": [
    {
     "data": {
      "image/png": "[encoded data removed]",
      "text/plain": [
       "<Figure size 432x288 with 1 Axes>"
      ]
     },
     "metadata": {
      "needs_background": "light"
     },
     "output_type": "display_data"
    }
   ],
   "source": [
    "sns.barplot(x=\"tempt_group\", y=\"Humidity\", hue=\"Fire_Pres\", data=sd1, ci=None)\n",
    "plt.title(\"Temperature Vs. Humidity and Fire Alarm\")\n",
    "plt.xlabel(\"Temperature\")\n",
    "plt.ylabel(\"Humidity\")\n",
    "\n",
    "plt.show()"
   ]
  },
  {
   "cell_type": "markdown",
   "id": "ce449eae",
   "metadata": {},
   "source": [
    "High Humidity measurement indicated the presence of Fire, irrespective of the measurement of the temperature, though highest Temperature measurement, indicated highest humidity measurement and fire presence."
   ]
  },
  {
   "cell_type": "code",
   "execution_count": 32,
   "id": "5705ce35",
   "metadata": {},
   "outputs": [
    {
     "data": {
      "image/png": "[encoded data removed]",
      "text/plain": [
       "<Figure size 432x288 with 1 Axes>"
      ]
     },
     "metadata": {
      "needs_background": "light"
     },
     "output_type": "display_data"
    }
   ],
   "source": [
    "sns.barplot(x=\"CNT_group\", y=\"Humidity\", hue=\"Fire_Pres\" , data=sd1, ci=None)\n",
    "plt.title(\"Humidity' vs. CNT vs. Presence of Fire\")\n",
    "plt.xlabel(\"CNT\")\n",
    "plt.ylabel(\"Humidity\")\n",
    "\n",
    "plt.show()"
   ]
  },
  {
   "cell_type": "code",
   "execution_count": 33,
   "id": "f6e0b9f1",
   "metadata": {
    "scrolled": false
   },
   "outputs": [
    {
     "data": {
      "image/png": "[encoded data removed]",
      "text/plain": [
       "<Figure size 432x288 with 1 Axes>"
      ]
     },
     "metadata": {
      "needs_background": "light"
     },
     "output_type": "display_data"
    }
   ],
   "source": [
    "sns.lineplot(x=\"tvoc_group\", y=\"eCO2_ppm\", hue=\"NC2_5_group\", data=sd1)\n",
    "plt.title(\"TVOC vs. eCO2 and NC2.5\")\n",
    "plt.xlabel(\"tvoc_group\")\n",
    "plt.ylabel(\"eCO2_ppm\")\n",
    "\n",
    "plt.show()"
   ]
  },
  {
   "cell_type": "markdown",
   "id": "f6b1478d",
   "metadata": {},
   "source": [
    "There was a positive correlation between TVOC, eCO2 and NC2.5 measurements"
   ]
  },
  {
   "cell_type": "code",
   "execution_count": 34,
   "id": "0270cfc4",
   "metadata": {
    "scrolled": false
   },
   "outputs": [
    {
     "data": {
      "text/plain": [
       "Text(0.5, 1.0, 'Correlations between Columns')"
      ]
     },
     "execution_count": 34,
     "metadata": {},
     "output_type": "execute_result"
    },
    {
     "data": {
      "image/png": "[encoded data removed]",
      "text/plain": [
       "<Figure size 1080x1080 with 2 Axes>"
      ]
     },
     "metadata": {
      "needs_background": "light"
     },
     "output_type": "display_data"
    }
   ],
   "source": [
    "plt.figure(figsize=(15,15))\n",
    "sns.heatmap(sd1.corr(),annot=True)\n",
    "plt.title('Correlations between Columns', fontsize=13,weight=(\"bold\"))"
   ]
  },
  {
   "cell_type": "markdown",
   "id": "777ed7e2",
   "metadata": {},
   "source": [
    "There was a:\n",
    "* Weak correlation between Humidity and Fire alarm, Strong correlation betwen CNT and Fire Alarm\n",
    "* Strong correlation between NC2.5 and PM1,PM2.5,NC0.5,NC1.0\n",
    "* Strong correlation between TVOC and eCO2, and NC2.5, PM1,PM2.5,NC0.5,NC1.0\n",
    "* Strong correlation between humdity and pressure"
   ]
  },
  {
   "cell_type": "markdown",
   "id": "67f521f9",
   "metadata": {
    "scrolled": true
   },
   "source": [
    "### Summary of Findings"
   ]
  },
  {
   "cell_type": "markdown",
   "id": "2dc7d636",
   "metadata": {},
   "source": [
    "There positive correlations between some chemical components in a fire indicated a presence of fire in the dataset, component like Humdity, CNT and Pressure. Meaning, the higher the measurement of these components in the environmnet, the higher the chances of fire presence.\n"
   ]
  },
  {
   "cell_type": "code",
   "execution_count": null,
   "id": "ecdd41a9",
   "metadata": {},
   "outputs": [],
   "source": []
  },
  {
   "cell_type": "markdown",
   "id": "f624fe28",
   "metadata": {},
   "source": [
    "## Modelling"
   ]
  },
  {
   "cell_type": "code",
   "execution_count": 36,
   "id": "2e494f19",
   "metadata": {},
   "outputs": [
    {
     "data": {
      "text/html": [
       "<div>\n",
       "<style scoped>\n",
       "    .dataframe tbody tr th:only-of-type {\n",
       "        vertical-align: middle;\n",
       "    }\n",
       "\n",
       "    .dataframe tbody tr th {\n",
       "        vertical-align: top;\n",
       "    }\n",
       "\n",
       "    .dataframe thead th {\n",
       "        text-align: right;\n",
       "    }\n",
       "</style>\n",
       "<table border=\"1\" class=\"dataframe\">\n",
       "  <thead>\n",
       "    <tr style=\"text-align: right;\">\n",
       "      <th></th>\n",
       "      <th>UTC</th>\n",
       "      <th>Temperature_C</th>\n",
       "      <th>Humidity</th>\n",
       "      <th>TVOC_ppb</th>\n",
       "      <th>eCO2_ppm</th>\n",
       "      <th>Raw_H2</th>\n",
       "      <th>Raw_Ethanol</th>\n",
       "      <th>Pressure_hPa</th>\n",
       "      <th>PM1</th>\n",
       "      <th>PM2_5</th>\n",
       "      <th>NC0_5</th>\n",
       "      <th>NC1_0</th>\n",
       "      <th>NC2_5</th>\n",
       "      <th>CNT</th>\n",
       "      <th>Fire_Alarm</th>\n",
       "    </tr>\n",
       "  </thead>\n",
       "  <tbody>\n",
       "    <tr>\n",
       "      <th>0</th>\n",
       "      <td>1970-01-20 03:38:53.331</td>\n",
       "      <td>20.000</td>\n",
       "      <td>57.36</td>\n",
       "      <td>0</td>\n",
       "      <td>400</td>\n",
       "      <td>12306</td>\n",
       "      <td>18520</td>\n",
       "      <td>939.735</td>\n",
       "      <td>0.0</td>\n",
       "      <td>0.0</td>\n",
       "      <td>0.0</td>\n",
       "      <td>0.0</td>\n",
       "      <td>0.0</td>\n",
       "      <td>0</td>\n",
       "      <td>0</td>\n",
       "    </tr>\n",
       "    <tr>\n",
       "      <th>1</th>\n",
       "      <td>1970-01-20 03:38:53.332</td>\n",
       "      <td>20.015</td>\n",
       "      <td>56.67</td>\n",
       "      <td>0</td>\n",
       "      <td>400</td>\n",
       "      <td>12345</td>\n",
       "      <td>18651</td>\n",
       "      <td>939.744</td>\n",
       "      <td>0.0</td>\n",
       "      <td>0.0</td>\n",
       "      <td>0.0</td>\n",
       "      <td>0.0</td>\n",
       "      <td>0.0</td>\n",
       "      <td>1</td>\n",
       "      <td>0</td>\n",
       "    </tr>\n",
       "  </tbody>\n",
       "</table>\n",
       "</div>"
      ],
      "text/plain": [
       "                      UTC  Temperature_C  Humidity  TVOC_ppb  eCO2_ppm  \\\n",
       "0 1970-01-20 03:38:53.331         20.000     57.36         0       400   \n",
       "1 1970-01-20 03:38:53.332         20.015     56.67         0       400   \n",
       "\n",
       "   Raw_H2  Raw_Ethanol  Pressure_hPa  PM1  PM2_5  NC0_5  NC1_0  NC2_5  CNT  \\\n",
       "0   12306        18520       939.735  0.0    0.0    0.0    0.0    0.0    0   \n",
       "1   12345        18651       939.744  0.0    0.0    0.0    0.0    0.0    1   \n",
       "\n",
       "   Fire_Alarm  \n",
       "0           0  \n",
       "1           0  "
      ]
     },
     "execution_count": 36,
     "metadata": {},
     "output_type": "execute_result"
    }
   ],
   "source": [
    "# drop categorical data columns that were created for visualization purpose\n",
    "\n",
    "sd1.drop(['tempt_group', 'humi_group', 'tvoc_group',\n",
    "       'eCO2_group', 'Raw_H2_group', 'Raw_Ethanol_group', 'Pressure_hPa_group',\n",
    "       'PM1_group', 'PM2_5_group', 'NC0_5_group', 'NC1_0_group', 'NC2_5_group',\n",
    "       'CNT_group', 'Fire_Pres'], axis = 1, inplace = True)\n",
    "\n",
    "sd1.head(2)"
   ]
  },
  {
   "cell_type": "markdown",
   "id": "dedc3258",
   "metadata": {},
   "source": [
    "### Feature Selection  - Choose Target"
   ]
  },
  {
   "cell_type": "code",
   "execution_count": 37,
   "id": "fb46c2e9",
   "metadata": {},
   "outputs": [],
   "source": [
    "y = sd1[\"Fire_Alarm\"]\n",
    "X = sd1.drop([\"Fire_Alarm\",'UTC'], axis=1)"
   ]
  },
  {
   "cell_type": "code",
   "execution_count": 38,
   "id": "c2b99a22",
   "metadata": {},
   "outputs": [
    {
     "data": {
      "text/plain": [
       "0    0\n",
       "1    0\n",
       "2    0\n",
       "3    0\n",
       "4    0\n",
       "Name: Fire_Alarm, dtype: int64"
      ]
     },
     "execution_count": 38,
     "metadata": {},
     "output_type": "execute_result"
    }
   ],
   "source": [
    "y.head()\n"
   ]
  },
  {
   "cell_type": "code",
   "execution_count": 39,
   "id": "a868df8a",
   "metadata": {},
   "outputs": [
    {
     "data": {
      "text/html": [
       "<div>\n",
       "<style scoped>\n",
       "    .dataframe tbody tr th:only-of-type {\n",
       "        vertical-align: middle;\n",
       "    }\n",
       "\n",
       "    .dataframe tbody tr th {\n",
       "        vertical-align: top;\n",
       "    }\n",
       "\n",
       "    .dataframe thead th {\n",
       "        text-align: right;\n",
       "    }\n",
       "</style>\n",
       "<table border=\"1\" class=\"dataframe\">\n",
       "  <thead>\n",
       "    <tr style=\"text-align: right;\">\n",
       "      <th></th>\n",
       "      <th>Temperature_C</th>\n",
       "      <th>Humidity</th>\n",
       "      <th>TVOC_ppb</th>\n",
       "      <th>eCO2_ppm</th>\n",
       "      <th>Raw_H2</th>\n",
       "      <th>Raw_Ethanol</th>\n",
       "      <th>Pressure_hPa</th>\n",
       "      <th>PM1</th>\n",
       "      <th>PM2_5</th>\n",
       "      <th>NC0_5</th>\n",
       "      <th>NC1_0</th>\n",
       "      <th>NC2_5</th>\n",
       "      <th>CNT</th>\n",
       "    </tr>\n",
       "  </thead>\n",
       "  <tbody>\n",
       "    <tr>\n",
       "      <th>0</th>\n",
       "      <td>20.000</td>\n",
       "      <td>57.36</td>\n",
       "      <td>0</td>\n",
       "      <td>400</td>\n",
       "      <td>12306</td>\n",
       "      <td>18520</td>\n",
       "      <td>939.735</td>\n",
       "      <td>0.0</td>\n",
       "      <td>0.0</td>\n",
       "      <td>0.0</td>\n",
       "      <td>0.0</td>\n",
       "      <td>0.0</td>\n",
       "      <td>0</td>\n",
       "    </tr>\n",
       "    <tr>\n",
       "      <th>1</th>\n",
       "      <td>20.015</td>\n",
       "      <td>56.67</td>\n",
       "      <td>0</td>\n",
       "      <td>400</td>\n",
       "      <td>12345</td>\n",
       "      <td>18651</td>\n",
       "      <td>939.744</td>\n",
       "      <td>0.0</td>\n",
       "      <td>0.0</td>\n",
       "      <td>0.0</td>\n",
       "      <td>0.0</td>\n",
       "      <td>0.0</td>\n",
       "      <td>1</td>\n",
       "    </tr>\n",
       "    <tr>\n",
       "      <th>2</th>\n",
       "      <td>20.029</td>\n",
       "      <td>55.96</td>\n",
       "      <td>0</td>\n",
       "      <td>400</td>\n",
       "      <td>12374</td>\n",
       "      <td>18764</td>\n",
       "      <td>939.738</td>\n",
       "      <td>0.0</td>\n",
       "      <td>0.0</td>\n",
       "      <td>0.0</td>\n",
       "      <td>0.0</td>\n",
       "      <td>0.0</td>\n",
       "      <td>2</td>\n",
       "    </tr>\n",
       "    <tr>\n",
       "      <th>3</th>\n",
       "      <td>20.044</td>\n",
       "      <td>55.28</td>\n",
       "      <td>0</td>\n",
       "      <td>400</td>\n",
       "      <td>12390</td>\n",
       "      <td>18849</td>\n",
       "      <td>939.736</td>\n",
       "      <td>0.0</td>\n",
       "      <td>0.0</td>\n",
       "      <td>0.0</td>\n",
       "      <td>0.0</td>\n",
       "      <td>0.0</td>\n",
       "      <td>3</td>\n",
       "    </tr>\n",
       "    <tr>\n",
       "      <th>4</th>\n",
       "      <td>20.059</td>\n",
       "      <td>54.69</td>\n",
       "      <td>0</td>\n",
       "      <td>400</td>\n",
       "      <td>12403</td>\n",
       "      <td>18921</td>\n",
       "      <td>939.744</td>\n",
       "      <td>0.0</td>\n",
       "      <td>0.0</td>\n",
       "      <td>0.0</td>\n",
       "      <td>0.0</td>\n",
       "      <td>0.0</td>\n",
       "      <td>4</td>\n",
       "    </tr>\n",
       "  </tbody>\n",
       "</table>\n",
       "</div>"
      ],
      "text/plain": [
       "   Temperature_C  Humidity  TVOC_ppb  eCO2_ppm  Raw_H2  Raw_Ethanol  \\\n",
       "0         20.000     57.36         0       400   12306        18520   \n",
       "1         20.015     56.67         0       400   12345        18651   \n",
       "2         20.029     55.96         0       400   12374        18764   \n",
       "3         20.044     55.28         0       400   12390        18849   \n",
       "4         20.059     54.69         0       400   12403        18921   \n",
       "\n",
       "   Pressure_hPa  PM1  PM2_5  NC0_5  NC1_0  NC2_5  CNT  \n",
       "0       939.735  0.0    0.0    0.0    0.0    0.0    0  \n",
       "1       939.744  0.0    0.0    0.0    0.0    0.0    1  \n",
       "2       939.738  0.0    0.0    0.0    0.0    0.0    2  \n",
       "3       939.736  0.0    0.0    0.0    0.0    0.0    3  \n",
       "4       939.744  0.0    0.0    0.0    0.0    0.0    4  "
      ]
     },
     "execution_count": 39,
     "metadata": {},
     "output_type": "execute_result"
    }
   ],
   "source": [
    "X.head()"
   ]
  },
  {
   "cell_type": "markdown",
   "id": "e81f95dc",
   "metadata": {},
   "source": [
    "### Preparing the models\n",
    "#### Train Test Split"
   ]
  },
  {
   "cell_type": "code",
   "execution_count": 41,
   "id": "f9eca85d",
   "metadata": {},
   "outputs": [],
   "source": [
    "#Import train_test_split\n",
    "from sklearn.model_selection import train_test_split\n",
    "#split into training and validation sets using a 30% split ratio\n",
    "X_train,X_test,y_train,y_test = train_test_split(X,y,test_size=0.3)"
   ]
  },
  {
   "cell_type": "code",
   "execution_count": null,
   "id": "c4a2749c",
   "metadata": {},
   "outputs": [],
   "source": []
  },
  {
   "cell_type": "markdown",
   "id": "2673d3c5",
   "metadata": {},
   "source": [
    "## Import ML algorithms and initialize them"
   ]
  },
  {
   "cell_type": "code",
   "execution_count": 42,
   "id": "89eb5b3f",
   "metadata": {},
   "outputs": [],
   "source": [
    "# Importation of necessary libraries\n",
    "\n",
    "# Machine Learning\n",
    "from sklearn.model_selection import cross_val_score, cross_val_predict\n",
    "\n",
    "#ML Algorithms\n",
    "from sklearn import svm\n",
    "from sklearn.neighbors import KNeighborsClassifier\n",
    "from sklearn.linear_model import LogisticRegression\n",
    "from sklearn.ensemble import RandomForestClassifier\n",
    "from sklearn.tree import DecisionTreeClassifier\n",
    "\n",
    "#ML Metrics\n",
    "from sklearn.metrics import accuracy_score, classification_report, precision_score, recall_score\n",
    "from sklearn.metrics import confusion_matrix\n"
   ]
  },
  {
   "cell_type": "code",
   "execution_count": 43,
   "id": "a2ef3ef9",
   "metadata": {},
   "outputs": [],
   "source": [
    "# initialization of Algorithms"
   ]
  },
  {
   "cell_type": "code",
   "execution_count": 44,
   "id": "944a3396",
   "metadata": {},
   "outputs": [],
   "source": [
    "#Create a svm Classifier (intialize)\n",
    "clf = svm.SVC(kernel='linear') # Linear Kernel"
   ]
  },
  {
   "cell_type": "code",
   "execution_count": 45,
   "id": "05b72c3e",
   "metadata": {},
   "outputs": [],
   "source": [
    "# Initialize algorithms KNeighborsClassifier\n",
    "\n",
    "KN = KNeighborsClassifier()"
   ]
  },
  {
   "cell_type": "code",
   "execution_count": 46,
   "id": "8f870c13",
   "metadata": {},
   "outputs": [],
   "source": [
    "# Initialize algorithms LogisticRegression\n",
    "LR = LogisticRegression()"
   ]
  },
  {
   "cell_type": "code",
   "execution_count": 47,
   "id": "4087be02",
   "metadata": {},
   "outputs": [],
   "source": [
    "RF = RandomForestClassifier()"
   ]
  },
  {
   "cell_type": "code",
   "execution_count": 48,
   "id": "7ce9d4b8",
   "metadata": {},
   "outputs": [],
   "source": [
    "DT = DecisionTreeClassifier()"
   ]
  },
  {
   "cell_type": "code",
   "execution_count": 49,
   "id": "9c440afd",
   "metadata": {},
   "outputs": [],
   "source": [
    "classifiers = [clf,KN,LR,RF,DT]"
   ]
  },
  {
   "cell_type": "markdown",
   "id": "302ab9cd",
   "metadata": {},
   "source": [
    "## Train and Test the models"
   ]
  },
  {
   "cell_type": "code",
   "execution_count": 50,
   "id": "4950af8b",
   "metadata": {},
   "outputs": [],
   "source": [
    "# Confusion matrix function\n",
    "\n",
    "def plot_confusion_matrix(y_test,prediction):\n",
    "    cm_ = confusion_matrix(y_test,prediction)\n",
    "    plt.figure(figsize=(6, 4))\n",
    "    sns.heatmap(cm_,\n",
    "    cmap='coolwarm',\n",
    "    linecolor='white',\n",
    "    linewidths=1,\n",
    "    annot=True,\n",
    "    fmt='d')\n",
    "    plt.title('Confusion Matrix')\n",
    "    plt.ylabel('True Label')\n",
    "    plt.xlabel('Predicted Label')\n",
    "    plt.show()"
   ]
  },
  {
   "cell_type": "code",
   "execution_count": 51,
   "id": "37589686",
   "metadata": {},
   "outputs": [],
   "source": [
    "# Create a function to train and evaluate model\n",
    "def trainer(model,X_train,y_train,X_test,y_test):\n",
    "    #fit the model\n",
    "    model.fit(X_train,y_train)\n",
    "    #predict on the fitted model\n",
    "    prediction = model.predict(X_test)\n",
    "    # print evaluation metrics\n",
    "    print('\\nFor {}, Accuracy score is {} \\n'.format(model.__class__.__name__,accuracy_score(prediction,y_test)))\n",
    "    print(classification_report(prediction,y_test)) \n",
    "    plot_confusion_matrix(y_test,prediction)"
   ]
  },
  {
   "cell_type": "code",
   "execution_count": 52,
   "id": "cdaf088b",
   "metadata": {
    "scrolled": false
   },
   "outputs": [
    {
     "name": "stdout",
     "output_type": "stream",
     "text": [
      "\n",
      "For SVC, Accuracy score is 0.9957954122092714 \n",
      "\n",
      "              precision    recall  f1-score   support\n",
      "\n",
      "           0       1.00      0.99      0.99      5410\n",
      "           1       1.00      1.00      1.00     13379\n",
      "\n",
      "    accuracy                           1.00     18789\n",
      "   macro avg       1.00      0.99      0.99     18789\n",
      "weighted avg       1.00      1.00      1.00     18789\n",
      "\n"
     ]
    },
    {
     "data": {
      "image/png": "[encoded data removed]",
      "text/plain": [
       "<Figure size 432x288 with 2 Axes>"
      ]
     },
     "metadata": {
      "needs_background": "light"
     },
     "output_type": "display_data"
    },
    {
     "name": "stdout",
     "output_type": "stream",
     "text": [
      "\n",
      "For KNeighborsClassifier, Accuracy score is 0.9998403321092129 \n",
      "\n",
      "              precision    recall  f1-score   support\n",
      "\n",
      "           0       1.00      1.00      1.00      5362\n",
      "           1       1.00      1.00      1.00     13427\n",
      "\n",
      "    accuracy                           1.00     18789\n",
      "   macro avg       1.00      1.00      1.00     18789\n",
      "weighted avg       1.00      1.00      1.00     18789\n",
      "\n"
     ]
    },
    {
     "data": {
      "image/png": "[encoded data removed]",
      "text/plain": [
       "<Figure size 432x288 with 2 Axes>"
      ]
     },
     "metadata": {
      "needs_background": "light"
     },
     "output_type": "display_data"
    },
    {
     "name": "stdout",
     "output_type": "stream",
     "text": [
      "\n",
      "For LogisticRegression, Accuracy score is 0.9879716855607004 \n",
      "\n",
      "              precision    recall  f1-score   support\n",
      "\n",
      "           0       1.00      0.96      0.98      5575\n",
      "           1       0.98      1.00      0.99     13214\n",
      "\n",
      "    accuracy                           0.99     18789\n",
      "   macro avg       0.99      0.98      0.99     18789\n",
      "weighted avg       0.99      0.99      0.99     18789\n",
      "\n"
     ]
    },
    {
     "data": {
      "image/png": "[encoded data removed]",
      "text/plain": [
       "<Figure size 432x288 with 2 Axes>"
      ]
     },
     "metadata": {
      "needs_background": "light"
     },
     "output_type": "display_data"
    },
    {
     "name": "stdout",
     "output_type": "stream",
     "text": [
      "\n",
      "For RandomForestClassifier, Accuracy score is 0.9999467773697376 \n",
      "\n",
      "              precision    recall  f1-score   support\n",
      "\n",
      "           0       1.00      1.00      1.00      5366\n",
      "           1       1.00      1.00      1.00     13423\n",
      "\n",
      "    accuracy                           1.00     18789\n",
      "   macro avg       1.00      1.00      1.00     18789\n",
      "weighted avg       1.00      1.00      1.00     18789\n",
      "\n"
     ]
    },
    {
     "data": {
      "image/png": "[encoded data removed]",
      "text/plain": [
       "<Figure size 432x288 with 2 Axes>"
      ]
     },
     "metadata": {
      "needs_background": "light"
     },
     "output_type": "display_data"
    },
    {
     "name": "stdout",
     "output_type": "stream",
     "text": [
      "\n",
      "For DecisionTreeClassifier, Accuracy score is 0.9998403321092129 \n",
      "\n",
      "              precision    recall  f1-score   support\n",
      "\n",
      "           0       1.00      1.00      1.00      5364\n",
      "           1       1.00      1.00      1.00     13425\n",
      "\n",
      "    accuracy                           1.00     18789\n",
      "   macro avg       1.00      1.00      1.00     18789\n",
      "weighted avg       1.00      1.00      1.00     18789\n",
      "\n"
     ]
    },
    {
     "data": {
      "image/png": "[encoded data removed]",
      "text/plain": [
       "<Figure size 432x288 with 2 Axes>"
      ]
     },
     "metadata": {
      "needs_background": "light"
     },
     "output_type": "display_data"
    }
   ],
   "source": [
    "# loop through all models\n",
    "for model in classifiers:\n",
    "    trainer(model,X_train,y_train,X_test,y_test)"
   ]
  },
  {
   "cell_type": "markdown",
   "id": "0e0b26c2",
   "metadata": {},
   "source": [
    "### Inspect Feature Importances"
   ]
  },
  {
   "cell_type": "code",
   "execution_count": 53,
   "id": "895d527a",
   "metadata": {
    "scrolled": true
   },
   "outputs": [
    {
     "data": {
      "image/png": "[encoded data removed]",
      "text/plain": [
       "<Figure size 432x288 with 1 Axes>"
      ]
     },
     "metadata": {
      "needs_background": "light"
     },
     "output_type": "display_data"
    }
   ],
   "source": [
    "#get feature importances\n",
    "RF_importances = pd.DataFrame(data = RF.feature_importances_,index = X_test.columns, columns=['Importance'])\n",
    "\n",
    "#plot top 5 feature importances, sorted\n",
    "RF_importances[:5].sort_values(by='Importance').plot.barh()\n",
    "\n",
    "plt.title('Feature importances for Random Forest')\n",
    "plt.show()"
   ]
  },
  {
   "cell_type": "code",
   "execution_count": 54,
   "id": "5e3cbcdc",
   "metadata": {},
   "outputs": [
    {
     "data": {
      "text/plain": [
       "array(['eCO2_ppm', 'Temperature_C', 'Raw_H2', 'Humidity', 'TVOC_ppb'],\n",
       "      dtype=object)"
      ]
     },
     "execution_count": 54,
     "metadata": {},
     "output_type": "execute_result"
    }
   ],
   "source": [
    "#get these top 5 importances\n",
    "RF_importances[:5].sort_values(by='Importance').index.values"
   ]
  },
  {
   "cell_type": "markdown",
   "id": "66823ece",
   "metadata": {},
   "source": [
    "### A Bit of Feature Selection"
   ]
  },
  {
   "cell_type": "code",
   "execution_count": 55,
   "id": "0a856921",
   "metadata": {},
   "outputs": [
    {
     "data": {
      "text/html": [
       "<div>\n",
       "<style scoped>\n",
       "    .dataframe tbody tr th:only-of-type {\n",
       "        vertical-align: middle;\n",
       "    }\n",
       "\n",
       "    .dataframe tbody tr th {\n",
       "        vertical-align: top;\n",
       "    }\n",
       "\n",
       "    .dataframe thead th {\n",
       "        text-align: right;\n",
       "    }\n",
       "</style>\n",
       "<table border=\"1\" class=\"dataframe\">\n",
       "  <thead>\n",
       "    <tr style=\"text-align: right;\">\n",
       "      <th></th>\n",
       "      <th>eCO2_ppm</th>\n",
       "      <th>Temperature_C</th>\n",
       "      <th>Raw_H2</th>\n",
       "      <th>Humidity</th>\n",
       "      <th>TVOC_ppb</th>\n",
       "    </tr>\n",
       "  </thead>\n",
       "  <tbody>\n",
       "    <tr>\n",
       "      <th>62171</th>\n",
       "      <td>1102</td>\n",
       "      <td>-21.871</td>\n",
       "      <td>12449</td>\n",
       "      <td>12.09</td>\n",
       "      <td>60000</td>\n",
       "    </tr>\n",
       "    <tr>\n",
       "      <th>15048</th>\n",
       "      <td>448</td>\n",
       "      <td>13.044</td>\n",
       "      <td>12870</td>\n",
       "      <td>52.91</td>\n",
       "      <td>1134</td>\n",
       "    </tr>\n",
       "  </tbody>\n",
       "</table>\n",
       "</div>"
      ],
      "text/plain": [
       "       eCO2_ppm  Temperature_C  Raw_H2  Humidity  TVOC_ppb\n",
       "62171      1102        -21.871   12449     12.09     60000\n",
       "15048       448         13.044   12870     52.91      1134"
      ]
     },
     "execution_count": 55,
     "metadata": {},
     "output_type": "execute_result"
    }
   ],
   "source": [
    "#create a new X train with only 5 features\n",
    "X_train2 = X_train[['eCO2_ppm', 'Temperature_C', 'Raw_H2', 'Humidity', 'TVOC_ppb']]\n",
    "\n",
    "X_train2.head(2)"
   ]
  },
  {
   "cell_type": "code",
   "execution_count": 56,
   "id": "eabf1d82",
   "metadata": {},
   "outputs": [],
   "source": [
    "X_test2 = X_test[['eCO2_ppm', 'Temperature_C', 'Raw_H2', 'Humidity', 'TVOC_ppb']]"
   ]
  },
  {
   "cell_type": "code",
   "execution_count": 57,
   "id": "108035ae",
   "metadata": {
    "scrolled": true
   },
   "outputs": [
    {
     "name": "stdout",
     "output_type": "stream",
     "text": [
      "0.9996806642184257\n"
     ]
    }
   ],
   "source": [
    "#train and predict\n",
    "RF.fit(X_train2,y_train)\n",
    "prediction2 = RF.predict(X_test2)\n",
    "\n",
    "print(accuracy_score(prediction2,y_test))"
   ]
  },
  {
   "cell_type": "markdown",
   "id": "26124a00",
   "metadata": {},
   "source": [
    "### Evaluating with Cross Validation\n",
    "\n",
    "In cross validation, the model splits the training data into multiple blocks. Using 1 block as test set for each training iteration, it trains the other blocks and validates against the test data.\n",
    "\n",
    "It helps to compare and select an appropriate model for the specific predictive modeling problem."
   ]
  },
  {
   "cell_type": "code",
   "execution_count": 58,
   "id": "69287d4d",
   "metadata": {},
   "outputs": [],
   "source": [
    "# evaluate your models using k-fold cross-validation\n",
    "from numpy import mean\n",
    "from numpy import std\n",
    "from sklearn.model_selection import KFold\n",
    "from sklearn.model_selection import cross_val_score, cross_val_predict\n",
    "\n",
    "# prepare the cross-validation procedure\n",
    "cv = KFold(n_splits=5, random_state=2, shuffle=True)"
   ]
  },
  {
   "cell_type": "code",
   "execution_count": 59,
   "id": "fa7be6dc",
   "metadata": {},
   "outputs": [],
   "source": [
    "#create function to train a model with cross validations and evaluate precision\n",
    "def trainer_with_cv(model,X,y):\n",
    "    '''Cross validation function. Expects a model,'''\n",
    "    # evaluate model\n",
    "    scores = cross_val_score(model, X, y, scoring='precision', cv=cv, n_jobs=-1)\n",
    "    # report performance\n",
    "    print('\\nFor {}, Precision is {} \\n'.format(model.__class__.__name__,mean(scores)))"
   ]
  },
  {
   "cell_type": "code",
   "execution_count": 60,
   "id": "56908f7a",
   "metadata": {},
   "outputs": [
    {
     "name": "stdout",
     "output_type": "stream",
     "text": [
      "\n",
      "For SVC, Precision is 0.9985902659223747 \n",
      "\n",
      "\n",
      "For KNeighborsClassifier, Precision is 0.999617510446108 \n",
      "\n",
      "\n",
      "For LogisticRegression, Precision is 0.9954852108693537 \n",
      "\n",
      "\n",
      "For RandomForestClassifier, Precision is 1.0 \n",
      "\n",
      "\n",
      "For DecisionTreeClassifier, Precision is 1.0 \n",
      "\n"
     ]
    }
   ],
   "source": [
    "#train and predict, looping through the list of models\n",
    "for model in classifiers:\n",
    "    trainer_with_cv(model,X_train,y_train)"
   ]
  },
  {
   "cell_type": "code",
   "execution_count": 61,
   "id": "e92a7cfc",
   "metadata": {},
   "outputs": [],
   "source": [
    "#create function to train a model with cross validations and evaluate recall\n",
    "def trainer_with_cv(model,X,y):\n",
    "    '''Cross validation function. Expects a model,'''\n",
    "    # evaluate model\n",
    "    scores = cross_val_score(model, X, y, scoring='recall', cv=cv, n_jobs=-1)\n",
    "    # report performance\n",
    "    print('\\nFor {}, Recall is {} \\n'.format(model.__class__.__name__,mean(scores)))"
   ]
  },
  {
   "cell_type": "code",
   "execution_count": 62,
   "id": "49a48200",
   "metadata": {
    "scrolled": true
   },
   "outputs": [
    {
     "name": "stdout",
     "output_type": "stream",
     "text": [
      "\n",
      "For SVC, Recall is 0.9937179336715346 \n",
      "\n",
      "\n",
      "For KNeighborsClassifier, Recall is 0.9998086851768585 \n",
      "\n",
      "\n",
      "For LogisticRegression, Recall is 0.9774336552734757 \n",
      "\n",
      "\n",
      "For RandomForestClassifier, Recall is 0.9999680868038935 \n",
      "\n",
      "\n",
      "For DecisionTreeClassifier, Recall is 0.9999680868038935 \n",
      "\n"
     ]
    }
   ],
   "source": [
    "#train and predict, looping through the list of models\n",
    "for model in classifiers:\n",
    "    trainer_with_cv(model,X_train,y_train)"
   ]
  },
  {
   "cell_type": "code",
   "execution_count": 63,
   "id": "ee442b53",
   "metadata": {},
   "outputs": [],
   "source": [
    "#create function to train a model with cross validations and evaluate accuracy\n",
    "def trainer_with_cv(model,X,y):\n",
    "    '''Cross validation function. Expects a model,'''\n",
    "    # evaluate model\n",
    "    scores = cross_val_score(model, X, y, scoring='accuracy', cv=cv, n_jobs=-1)\n",
    "    # report performance\n",
    "    print('\\nFor {}, Accuracy score is {} \\n'.format(model.__class__.__name__,mean(scores)))"
   ]
  },
  {
   "cell_type": "code",
   "execution_count": 64,
   "id": "1f5c30b2",
   "metadata": {},
   "outputs": [
    {
     "name": "stdout",
     "output_type": "stream",
     "text": [
      "\n",
      "For SVC, Accuracy score is 0.9945028256682258 \n",
      "\n",
      "\n",
      "For KNeighborsClassifier, Accuracy score is 0.9995894212608617 \n",
      "\n",
      "\n",
      "For LogisticRegression, Accuracy score is 0.9807029683406958 \n",
      "\n",
      "\n",
      "For RandomForestClassifier, Accuracy score is 0.999977189781022 \n",
      "\n",
      "\n",
      "For DecisionTreeClassifier, Accuracy score is 0.999977189781022 \n",
      "\n"
     ]
    }
   ],
   "source": [
    "#train and predict, looping through the list of models\n",
    "for model in classifiers:\n",
    "    trainer_with_cv(model,X_train,y_train)"
   ]
  },
  {
   "cell_type": "code",
   "execution_count": null,
   "id": "42d166a7",
   "metadata": {},
   "outputs": [],
   "source": []
  },
  {
   "cell_type": "markdown",
   "id": "de9ea4ae",
   "metadata": {},
   "source": [
    "## Interpret Results\n",
    "\n"
   ]
  },
  {
   "cell_type": "markdown",
   "id": "4e724aed",
   "metadata": {},
   "source": [
    "* The purpose of this project is to accurately raise an alarm if smoke is detected.\n",
    "* The best model that predicts with lesser error is to be chosen, subjecting them to the different evaluation metrics including k-fold cross validation, accuracy, precision and recall. \n",
    "* The confusion matrix displays the error value for each model in terms of False Positive (Where the model predicts a fire/smoke presence and the fire alarm rings, where as there is no fire/smoke - Precision) and False Negative (Where the model predicts no fire/smoke presence, where as there is fire/smoke presence but the fire alarm doesn't ring  - Recall). \n",
    "* After Cross Validation, the model with the highest recall will be deployed. Recall is the most relevant matrix for evaluation in this business problem. This is because, the effect of the error (Recall) on the business if not addressed will be massive compared to that of Precision.\n"
   ]
  },
  {
   "cell_type": "markdown",
   "id": "bffecdf6",
   "metadata": {},
   "source": [
    "## Summary\n"
   ]
  },
  {
   "cell_type": "markdown",
   "id": "c61c2da6",
   "metadata": {},
   "source": [
    "##### RandomForest Classifier: For this business problem, Recall score is of more relevancy and RandomForest Classifier & Decision tree Classifier had highest recall score compared to other models, but judging from the confusion matrix, RandomForest had 0 recall error. Hence, It should be deployed for the smoke detection project, as it has 100% Recall and Accuracy score of 100% (no error), though after cross validation, it had recall of 99.9%. It still showed the best model for deployment."
   ]
  },
  {
   "cell_type": "code",
   "execution_count": null,
   "id": "df9adf8c",
   "metadata": {},
   "outputs": [],
   "source": []
  },
  {
   "cell_type": "code",
   "execution_count": null,
   "id": "7ffe0b01",
   "metadata": {},
   "outputs": [],
   "source": []
  }
 ],
 "metadata": {
  "kernelspec": {
   "display_name": "Python 3 (ipykernel)",
   "language": "python",
   "name": "python3"
  },
  "language_info": {
   "codemirror_mode": {
    "name": "ipython",
    "version": 3
   },
   "file_extension": ".py",
   "mimetype": "text/x-python",
   "name": "python",
   "nbconvert_exporter": "python",
   "pygments_lexer": "ipython3",
   "version": "3.9.12"
  }
 },
 "nbformat": 4,
 "nbformat_minor": 5
}
